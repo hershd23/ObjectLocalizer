{
  "nbformat": 4,
  "nbformat_minor": 0,
  "metadata": {
    "colab": {
      "name": "TestCreator.ipynb",
      "version": "0.3.2",
      "provenance": []
    },
    "kernelspec": {
      "name": "python3",
      "display_name": "Python 3"
    },
    "accelerator": "GPU"
  },
  "cells": [
    {
      "metadata": {
        "id": "DYaScwi3HKAB",
        "colab_type": "code",
        "outputId": "a43727e1-3cdd-4b59-a61c-d5f5415d8753",
        "colab": {
          "base_uri": "https://localhost:8080/",
          "height": 34
        }
      },
      "cell_type": "code",
      "source": [
        "from google.colab import drive\n",
        "drive.mount('/content/drive')"
      ],
      "execution_count": 0,
      "outputs": [
        {
          "output_type": "stream",
          "text": [
            "Drive already mounted at /content/drive; to attempt to forcibly remount, call drive.mount(\"/content/drive\", force_remount=True).\n"
          ],
          "name": "stdout"
        }
      ]
    },
    {
      "metadata": {
        "id": "PVvbfO6QHbKB",
        "colab_type": "code",
        "outputId": "79932a90-ff97-4cd7-b088-564180381731",
        "colab": {
          "base_uri": "https://localhost:8080/",
          "height": 34
        }
      },
      "cell_type": "code",
      "source": [
        "cd /content/drive/My Drive/flipchal"
      ],
      "execution_count": 0,
      "outputs": [
        {
          "output_type": "stream",
          "text": [
            "/content/drive/My Drive/flipchal\n"
          ],
          "name": "stdout"
        }
      ]
    },
    {
      "metadata": {
        "id": "56hKcj2QHi__",
        "colab_type": "code",
        "outputId": "5f991223-8d2d-4575-f938-3066eec44ab9",
        "colab": {
          "base_uri": "https://localhost:8080/",
          "height": 101
        }
      },
      "cell_type": "code",
      "source": [
        "ls"
      ],
      "execution_count": 0,
      "outputs": [
        {
          "output_type": "stream",
          "text": [
            "id_to_box   id_to_data2  id_to_size3  test1.csv     test.gsheet\n",
            "id_to_box2  id_to_data3  id_to_size4  test1.gsheet  \u001b[0m\u001b[01;34mtest_set\u001b[0m/\n",
            "id_to_box3  id_to_data4  model2.h5    test2.csv     training.csv\n",
            "id_to_box4  id_to_size   model.h5     test3.csv     \u001b[01;34mtrain_set\u001b[0m/\n",
            "id_to_data  id_to_size2  \u001b[01;34mp1\u001b[0m/          test.csv      Untitled.ipynb\n"
          ],
          "name": "stdout"
        }
      ]
    },
    {
      "metadata": {
        "id": "wKztdQnVHl4d",
        "colab_type": "code",
        "colab": {}
      },
      "cell_type": "code",
      "source": [
        "import numpy as np\n",
        "import pandas as pd\n",
        "from PIL import Image\n",
        "import pickle\n",
        "import random"
      ],
      "execution_count": 0,
      "outputs": []
    },
    {
      "metadata": {
        "id": "yWwXva0hHnum",
        "colab_type": "code",
        "colab": {}
      },
      "cell_type": "code",
      "source": [
        "def Normalize(image,mean,std):\n",
        "    for channel in range(3):\n",
        "        image[:,:,channel]=(image[:,:,channel]-mean[channel])/std[channel]\n",
        "    return image"
      ],
      "execution_count": 0,
      "outputs": []
    },
    {
      "metadata": {
        "id": "KrulNA8cHrbs",
        "colab_type": "code",
        "colab": {}
      },
      "cell_type": "code",
      "source": [
        "df = pd.read_csv('./test.csv')"
      ],
      "execution_count": 0,
      "outputs": []
    },
    {
      "metadata": {
        "id": "nk7hwKTEIkFt",
        "colab_type": "code",
        "outputId": "c14ee316-12fd-485f-8a2b-2a1686e6f192",
        "colab": {
          "base_uri": "https://localhost:8080/",
          "height": 195
        }
      },
      "cell_type": "code",
      "source": [
        "df.head()"
      ],
      "execution_count": 0,
      "outputs": [
        {
          "output_type": "execute_result",
          "data": {
            "text/html": [
              "<div>\n",
              "<style scoped>\n",
              "    .dataframe tbody tr th:only-of-type {\n",
              "        vertical-align: middle;\n",
              "    }\n",
              "\n",
              "    .dataframe tbody tr th {\n",
              "        vertical-align: top;\n",
              "    }\n",
              "\n",
              "    .dataframe thead th {\n",
              "        text-align: right;\n",
              "    }\n",
              "</style>\n",
              "<table border=\"1\" class=\"dataframe\">\n",
              "  <thead>\n",
              "    <tr style=\"text-align: right;\">\n",
              "      <th></th>\n",
              "      <th>image_name</th>\n",
              "      <th>x1</th>\n",
              "      <th>x2</th>\n",
              "      <th>y1</th>\n",
              "      <th>y2</th>\n",
              "    </tr>\n",
              "  </thead>\n",
              "  <tbody>\n",
              "    <tr>\n",
              "      <th>0</th>\n",
              "      <td>1474723840903DSC08089.png</td>\n",
              "      <td>NaN</td>\n",
              "      <td>NaN</td>\n",
              "      <td>NaN</td>\n",
              "      <td>NaN</td>\n",
              "    </tr>\n",
              "    <tr>\n",
              "      <th>1</th>\n",
              "      <td>1473231475010DeeplearnS11276.png</td>\n",
              "      <td>NaN</td>\n",
              "      <td>NaN</td>\n",
              "      <td>NaN</td>\n",
              "      <td>NaN</td>\n",
              "    </tr>\n",
              "    <tr>\n",
              "      <th>2</th>\n",
              "      <td>JPEG_20161205_135307_1000155917326.png</td>\n",
              "      <td>NaN</td>\n",
              "      <td>NaN</td>\n",
              "      <td>NaN</td>\n",
              "      <td>NaN</td>\n",
              "    </tr>\n",
              "    <tr>\n",
              "      <th>3</th>\n",
              "      <td>JPEG_20160711_123440_1000518778437.png</td>\n",
              "      <td>NaN</td>\n",
              "      <td>NaN</td>\n",
              "      <td>NaN</td>\n",
              "      <td>NaN</td>\n",
              "    </tr>\n",
              "    <tr>\n",
              "      <th>4</th>\n",
              "      <td>JPEG_20160803_115329_100034020722.png</td>\n",
              "      <td>NaN</td>\n",
              "      <td>NaN</td>\n",
              "      <td>NaN</td>\n",
              "      <td>NaN</td>\n",
              "    </tr>\n",
              "  </tbody>\n",
              "</table>\n",
              "</div>"
            ],
            "text/plain": [
              "                               image_name  x1  x2  y1  y2\n",
              "0               1474723840903DSC08089.png NaN NaN NaN NaN\n",
              "1        1473231475010DeeplearnS11276.png NaN NaN NaN NaN\n",
              "2  JPEG_20161205_135307_1000155917326.png NaN NaN NaN NaN\n",
              "3  JPEG_20160711_123440_1000518778437.png NaN NaN NaN NaN\n",
              "4   JPEG_20160803_115329_100034020722.png NaN NaN NaN NaN"
            ]
          },
          "metadata": {
            "tags": []
          },
          "execution_count": 7
        }
      ]
    },
    {
      "metadata": {
        "id": "mUcWVLtxImLf",
        "colab_type": "code",
        "colab": {}
      },
      "cell_type": "code",
      "source": [
        "def getImgArray(id):\n",
        "  path = df.iloc[id]['image_name']\n",
        "  image=Image.open(\"./test_set/\"+path).convert('RGB')\n",
        "  image=image.resize((224,224))\n",
        "  image=np.array(image,dtype=np.float32)\n",
        "  image=image/255\n",
        "  image=Normalize(image,[0.485,0.456,0.406],[0.229,0.224,0.225])\n",
        "  inc_dim = {}\n",
        "  inc_dim[0] = image\n",
        "  inc_dim=np.array(list(inc_dim.values()))\n",
        "  return inc_dim"
      ],
      "execution_count": 0,
      "outputs": []
    },
    {
      "metadata": {
        "id": "rfP0X_A8JpDY",
        "colab_type": "code",
        "colab": {}
      },
      "cell_type": "code",
      "source": [
        "def my_metric(labels,predictions):\n",
        "    threshhold=0.75\n",
        "    x=predictions[:,0]*224\n",
        "    x=tf.maximum(tf.minimum(x,224.0),0.0)\n",
        "    y=predictions[:,1]*224\n",
        "    y=tf.maximum(tf.minimum(y,224.0),0.0)\n",
        "    width=predictions[:,2]*224\n",
        "    width=tf.maximum(tf.minimum(width,224.0),0.0)\n",
        "    height=predictions[:,3]*224\n",
        "    height=tf.maximum(tf.minimum(height,224.0),0.0)\n",
        "    label_x=labels[:,0]\n",
        "    label_y=labels[:,1]\n",
        "    label_width=labels[:,2]\n",
        "    label_height=labels[:,3]\n",
        "    a1=tf.multiply(width,height)\n",
        "    a2=tf.multiply(label_width,label_height)\n",
        "    x1=tf.maximum(x,label_x)\n",
        "    y1=tf.maximum(y,label_y)\n",
        "    x2=tf.minimum(x+width,label_x+label_width)\n",
        "    y2=tf.minimum(y+height,label_y+label_height)\n",
        "    IoU=tf.abs(tf.multiply((x1-x2),(y1-y2)))/(a1+a2-tf.abs(tf.multiply((x1-x2),(y1-y2))))\n",
        "    condition=tf.less(threshhold,IoU)\n",
        "    sum=tf.where(condition,tf.ones(tf.shape(condition)),tf.zeros(tf.shape(condition)))\n",
        "    return tf.reduce_mean(sum)"
      ],
      "execution_count": 0,
      "outputs": []
    },
    {
      "metadata": {
        "id": "xMs815sfJzKG",
        "colab_type": "code",
        "colab": {}
      },
      "cell_type": "code",
      "source": [
        "def smooth_l1_loss(true_box,pred_box):\n",
        "    loss=0.0\n",
        "    for i in range(4):\n",
        "        residual=tf.abs(true_box[:,i]-pred_box[:,i]*224)\n",
        "        condition=tf.less(residual,1.0)\n",
        "        small_res=0.5*tf.square(residual)\n",
        "        large_res=residual-0.5\n",
        "        loss=loss+tf.where(condition,small_res,large_res)\n",
        "    return tf.reduce_mean(loss)"
      ],
      "execution_count": 0,
      "outputs": []
    },
    {
      "metadata": {
        "id": "LXMQ83yQJ0sm",
        "colab_type": "code",
        "outputId": "2cf15c60-154d-402b-d085-81a7ed96b7f3",
        "colab": {
          "base_uri": "https://localhost:8080/",
          "height": 34
        }
      },
      "cell_type": "code",
      "source": [
        "import tensorflow as tf\n",
        "import keras\n",
        "from keras.layers import Dense, Conv2D, BatchNormalization, Activation\n",
        "from keras.layers import AveragePooling2D, MaxPooling2D, Input, Flatten\n",
        "from keras.optimizers import Adam\n",
        "from keras.regularizers import l2\n",
        "from keras import backend as K\n",
        "from keras.models import Model,load_model\n",
        "from keras.callbacks import ModelCheckpoint,LearningRateScheduler,ReduceLROnPlateau"
      ],
      "execution_count": 0,
      "outputs": [
        {
          "output_type": "stream",
          "text": [
            "Using TensorFlow backend.\n"
          ],
          "name": "stderr"
        }
      ]
    },
    {
      "metadata": {
        "id": "E4qubN_zJ5l6",
        "colab_type": "code",
        "colab": {}
      },
      "cell_type": "code",
      "source": [
        "model=keras.models.load_model(\"./model2.h5\", custom_objects={'smooth_l1_loss':smooth_l1_loss, 'my_metric':my_metric})"
      ],
      "execution_count": 0,
      "outputs": []
    },
    {
      "metadata": {
        "id": "bomn6ySqJ_di",
        "colab_type": "code",
        "colab": {}
      },
      "cell_type": "code",
      "source": [
        "result=model.predict(img)"
      ],
      "execution_count": 0,
      "outputs": []
    },
    {
      "metadata": {
        "id": "ZayCQ6MhLn8Y",
        "colab_type": "code",
        "colab": {}
      },
      "cell_type": "code",
      "source": [
        "prediction = result[0]"
      ],
      "execution_count": 0,
      "outputs": []
    },
    {
      "metadata": {
        "id": "VC1wfpmfRM9E",
        "colab_type": "code",
        "colab": {}
      },
      "cell_type": "code",
      "source": [
        "prediction"
      ],
      "execution_count": 0,
      "outputs": []
    },
    {
      "metadata": {
        "id": "YDpMQqAQOcJN",
        "colab_type": "code",
        "outputId": "7b6f4a84-631c-43be-a18c-bf0eb13820b5",
        "colab": {
          "base_uri": "https://localhost:8080/",
          "height": 162
        }
      },
      "cell_type": "code",
      "source": [
        "print(str(prediction[0]*640)+' '+str(prediction[1]*480)+' '+str((prediction[2]+prediction[0])*640)+' '+str((prediction[3]+prediction[1])*480)+' ')"
      ],
      "execution_count": 0,
      "outputs": [
        {
          "output_type": "error",
          "ename": "NameError",
          "evalue": "ignored",
          "traceback": [
            "\u001b[0;31m---------------------------------------------------------------------------\u001b[0m",
            "\u001b[0;31mNameError\u001b[0m                                 Traceback (most recent call last)",
            "\u001b[0;32m<ipython-input-14-9849a3d71198>\u001b[0m in \u001b[0;36m<module>\u001b[0;34m()\u001b[0m\n\u001b[0;32m----> 1\u001b[0;31m \u001b[0mprint\u001b[0m\u001b[0;34m(\u001b[0m\u001b[0mstr\u001b[0m\u001b[0;34m(\u001b[0m\u001b[0mprediction\u001b[0m\u001b[0;34m[\u001b[0m\u001b[0;36m0\u001b[0m\u001b[0;34m]\u001b[0m\u001b[0;34m*\u001b[0m\u001b[0;36m640\u001b[0m\u001b[0;34m)\u001b[0m\u001b[0;34m+\u001b[0m\u001b[0;34m' '\u001b[0m\u001b[0;34m+\u001b[0m\u001b[0mstr\u001b[0m\u001b[0;34m(\u001b[0m\u001b[0mprediction\u001b[0m\u001b[0;34m[\u001b[0m\u001b[0;36m1\u001b[0m\u001b[0;34m]\u001b[0m\u001b[0;34m*\u001b[0m\u001b[0;36m480\u001b[0m\u001b[0;34m)\u001b[0m\u001b[0;34m+\u001b[0m\u001b[0;34m' '\u001b[0m\u001b[0;34m+\u001b[0m\u001b[0mstr\u001b[0m\u001b[0;34m(\u001b[0m\u001b[0;34m(\u001b[0m\u001b[0mprediction\u001b[0m\u001b[0;34m[\u001b[0m\u001b[0;36m2\u001b[0m\u001b[0;34m]\u001b[0m\u001b[0;34m+\u001b[0m\u001b[0mprediction\u001b[0m\u001b[0;34m[\u001b[0m\u001b[0;36m0\u001b[0m\u001b[0;34m]\u001b[0m\u001b[0;34m)\u001b[0m\u001b[0;34m*\u001b[0m\u001b[0;36m640\u001b[0m\u001b[0;34m)\u001b[0m\u001b[0;34m+\u001b[0m\u001b[0;34m' '\u001b[0m\u001b[0;34m+\u001b[0m\u001b[0mstr\u001b[0m\u001b[0;34m(\u001b[0m\u001b[0;34m(\u001b[0m\u001b[0mprediction\u001b[0m\u001b[0;34m[\u001b[0m\u001b[0;36m3\u001b[0m\u001b[0;34m]\u001b[0m\u001b[0;34m+\u001b[0m\u001b[0mprediction\u001b[0m\u001b[0;34m[\u001b[0m\u001b[0;36m1\u001b[0m\u001b[0;34m]\u001b[0m\u001b[0;34m)\u001b[0m\u001b[0;34m*\u001b[0m\u001b[0;36m480\u001b[0m\u001b[0;34m)\u001b[0m\u001b[0;34m+\u001b[0m\u001b[0;34m' '\u001b[0m\u001b[0;34m)\u001b[0m\u001b[0;34m\u001b[0m\u001b[0;34m\u001b[0m\u001b[0m\n\u001b[0m",
            "\u001b[0;31mNameError\u001b[0m: name 'prediction' is not defined"
          ]
        }
      ]
    },
    {
      "metadata": {
        "id": "nF1FOF6HOlip",
        "colab_type": "code",
        "outputId": "838f4c30-d32a-46fc-fce6-5ab8a3a0e432",
        "colab": {
          "base_uri": "https://localhost:8080/",
          "height": 34
        }
      },
      "cell_type": "code",
      "source": [
        "df.shape"
      ],
      "execution_count": 0,
      "outputs": [
        {
          "output_type": "execute_result",
          "data": {
            "text/plain": [
              "(12815, 5)"
            ]
          },
          "metadata": {
            "tags": []
          },
          "execution_count": 15
        }
      ]
    },
    {
      "metadata": {
        "id": "_7FIStz9RGjk",
        "colab_type": "code",
        "colab": {}
      },
      "cell_type": "code",
      "source": [
        "finAns = {}"
      ],
      "execution_count": 0,
      "outputs": []
    },
    {
      "metadata": {
        "id": "_qBq0MPzOujK",
        "colab_type": "code",
        "outputId": "8f05a699-6383-4038-912d-9c1b7a16177e",
        "colab": {
          "base_uri": "https://localhost:8080/",
          "height": 454
        }
      },
      "cell_type": "code",
      "source": [
        "for i in range(12815):\n",
        "  img = getImgArray(i)\n",
        "  result = model.predict(img)\n",
        "  prediction = result[0]\n",
        "  prediction[0] = prediction[0]*640\n",
        "  prediction[1] = prediction[1]*480\n",
        "  prediction[2] = prediction[0]+prediction[2]*640\n",
        "  prediction[3] = prediction[1]+prediction[3]*480\n",
        "  finAns[i] = prediction\n",
        "  if i%500 == 0:\n",
        "    print(\"Step: \"+str(i))"
      ],
      "execution_count": 0,
      "outputs": [
        {
          "output_type": "stream",
          "text": [
            "Step: 0\n",
            "Step: 500\n",
            "Step: 1000\n",
            "Step: 1500\n",
            "Step: 2000\n",
            "Step: 2500\n",
            "Step: 3000\n",
            "Step: 3500\n",
            "Step: 4000\n",
            "Step: 4500\n",
            "Step: 5000\n",
            "Step: 5500\n",
            "Step: 6000\n",
            "Step: 6500\n",
            "Step: 7000\n",
            "Step: 7500\n",
            "Step: 8000\n",
            "Step: 8500\n",
            "Step: 9000\n",
            "Step: 9500\n",
            "Step: 10000\n",
            "Step: 10500\n",
            "Step: 11000\n",
            "Step: 11500\n",
            "Step: 12000\n",
            "Step: 12500\n"
          ],
          "name": "stdout"
        }
      ]
    },
    {
      "metadata": {
        "id": "XhzK67ESRtYU",
        "colab_type": "code",
        "outputId": "8fea45a4-920f-49da-ec6d-69a103c22484",
        "colab": {
          "base_uri": "https://localhost:8080/",
          "height": 134
        }
      },
      "cell_type": "code",
      "source": [
        "finAns"
      ],
      "execution_count": 0,
      "outputs": [
        {
          "output_type": "execute_result",
          "data": {
            "text/plain": [
              "array([[240.16718 ,  81.38599 , 432.7739  , 394.47372 ],\n",
              "       [ 77.35289 , 141.3264  , 568.66516 , 347.89807 ],\n",
              "       [134.26187 ,  56.75032 , 489.63034 , 423.7465  ],\n",
              "       ...,\n",
              "       [ 33.4302  ,  26.419931, 455.29144 , 449.97208 ],\n",
              "       [219.36893 , 134.60803 , 532.5951  , 352.115   ],\n",
              "       [ 20.403927, 112.13265 , 595.7431  , 371.5594  ]], dtype=float32)"
            ]
          },
          "metadata": {
            "tags": []
          },
          "execution_count": 32
        }
      ]
    },
    {
      "metadata": {
        "id": "WWcUFXXuois5",
        "colab_type": "code",
        "outputId": "0edf4271-294c-4a50-c6e2-434b9e87855b",
        "colab": {
          "base_uri": "https://localhost:8080/",
          "height": 162
        }
      },
      "cell_type": "code",
      "source": [
        "finAns = np.array(list(finAns.values()))"
      ],
      "execution_count": 0,
      "outputs": [
        {
          "output_type": "error",
          "ename": "AttributeError",
          "evalue": "ignored",
          "traceback": [
            "\u001b[0;31m---------------------------------------------------------------------------\u001b[0m",
            "\u001b[0;31mAttributeError\u001b[0m                            Traceback (most recent call last)",
            "\u001b[0;32m<ipython-input-33-9c928de17581>\u001b[0m in \u001b[0;36m<module>\u001b[0;34m()\u001b[0m\n\u001b[0;32m----> 1\u001b[0;31m \u001b[0mfinAns\u001b[0m \u001b[0;34m=\u001b[0m \u001b[0mnp\u001b[0m\u001b[0;34m.\u001b[0m\u001b[0marray\u001b[0m\u001b[0;34m(\u001b[0m\u001b[0mlist\u001b[0m\u001b[0;34m(\u001b[0m\u001b[0mfinAns\u001b[0m\u001b[0;34m.\u001b[0m\u001b[0mvalues\u001b[0m\u001b[0;34m(\u001b[0m\u001b[0;34m)\u001b[0m\u001b[0;34m)\u001b[0m\u001b[0;34m)\u001b[0m\u001b[0;34m\u001b[0m\u001b[0;34m\u001b[0m\u001b[0m\n\u001b[0m",
            "\u001b[0;31mAttributeError\u001b[0m: 'numpy.ndarray' object has no attribute 'values'"
          ]
        }
      ]
    },
    {
      "metadata": {
        "id": "4HKxHnoiotvt",
        "colab_type": "code",
        "outputId": "94673910-b928-4954-d403-0dadc9bc8624",
        "colab": {
          "base_uri": "https://localhost:8080/",
          "height": 134
        }
      },
      "cell_type": "code",
      "source": [
        "finAns"
      ],
      "execution_count": 0,
      "outputs": [
        {
          "output_type": "execute_result",
          "data": {
            "text/plain": [
              "array([[240.16718 ,  81.38599 , 432.7739  , 394.47372 ],\n",
              "       [ 77.35289 , 141.3264  , 568.66516 , 347.89807 ],\n",
              "       [134.26187 ,  56.75032 , 489.63034 , 423.7465  ],\n",
              "       ...,\n",
              "       [ 33.4302  ,  26.419931, 455.29144 , 449.97208 ],\n",
              "       [219.36893 , 134.60803 , 532.5951  , 352.115   ],\n",
              "       [ 20.403927, 112.13265 , 595.7431  , 371.5594  ]], dtype=float32)"
            ]
          },
          "metadata": {
            "tags": []
          },
          "execution_count": 34
        }
      ]
    },
    {
      "metadata": {
        "id": "vKpBEoUOvaxx",
        "colab_type": "code",
        "colab": {}
      },
      "cell_type": "code",
      "source": [
        "for i in range(12815):\n",
        "  for j in range(4):\n",
        "    if(finAns[i][j]<0):\n",
        "      finAns[i][j] = 0\n",
        "  if(finAns[i][2]>640):\n",
        "    finAns[i][2] = 640\n",
        "  if(finAns[i][3]>480):\n",
        "    finAns[i][3] = 480"
      ],
      "execution_count": 0,
      "outputs": []
    },
    {
      "metadata": {
        "id": "UY67Q-hNwG3Z",
        "colab_type": "code",
        "outputId": "686b155c-7bee-4599-9165-11e60102e1de",
        "colab": {
          "base_uri": "https://localhost:8080/",
          "height": 34
        }
      },
      "cell_type": "code",
      "source": [
        "finAns[557]"
      ],
      "execution_count": 0,
      "outputs": [
        {
          "output_type": "execute_result",
          "data": {
            "text/plain": [
              "array([ 21.96848,   0.     , 640.     , 448.35846], dtype=float32)"
            ]
          },
          "metadata": {
            "tags": []
          },
          "execution_count": 36
        }
      ]
    },
    {
      "metadata": {
        "id": "PgjkSJyAovXd",
        "colab_type": "code",
        "colab": {}
      },
      "cell_type": "code",
      "source": [
        "dataFrame = pd.DataFrame({'x1':finAns[:,0],'y1':finAns[:,1], 'x2':finAns[:,2], 'y2':finAns[:,3]})"
      ],
      "execution_count": 0,
      "outputs": []
    },
    {
      "metadata": {
        "id": "40T3UT2CstSR",
        "colab_type": "code",
        "outputId": "f3e7f5e6-85c5-4dc5-fa55-5aa4764d2d9f",
        "colab": {
          "base_uri": "https://localhost:8080/",
          "height": 195
        }
      },
      "cell_type": "code",
      "source": [
        "dataFrame.head()"
      ],
      "execution_count": 0,
      "outputs": [
        {
          "output_type": "execute_result",
          "data": {
            "text/html": [
              "<div>\n",
              "<style scoped>\n",
              "    .dataframe tbody tr th:only-of-type {\n",
              "        vertical-align: middle;\n",
              "    }\n",
              "\n",
              "    .dataframe tbody tr th {\n",
              "        vertical-align: top;\n",
              "    }\n",
              "\n",
              "    .dataframe thead th {\n",
              "        text-align: right;\n",
              "    }\n",
              "</style>\n",
              "<table border=\"1\" class=\"dataframe\">\n",
              "  <thead>\n",
              "    <tr style=\"text-align: right;\">\n",
              "      <th></th>\n",
              "      <th>x1</th>\n",
              "      <th>x2</th>\n",
              "      <th>y1</th>\n",
              "      <th>y2</th>\n",
              "    </tr>\n",
              "  </thead>\n",
              "  <tbody>\n",
              "    <tr>\n",
              "      <th>0</th>\n",
              "      <td>240.167175</td>\n",
              "      <td>432.773895</td>\n",
              "      <td>81.385986</td>\n",
              "      <td>394.473724</td>\n",
              "    </tr>\n",
              "    <tr>\n",
              "      <th>1</th>\n",
              "      <td>77.352890</td>\n",
              "      <td>568.665161</td>\n",
              "      <td>141.326401</td>\n",
              "      <td>347.898071</td>\n",
              "    </tr>\n",
              "    <tr>\n",
              "      <th>2</th>\n",
              "      <td>134.261871</td>\n",
              "      <td>489.630341</td>\n",
              "      <td>56.750320</td>\n",
              "      <td>423.746490</td>\n",
              "    </tr>\n",
              "    <tr>\n",
              "      <th>3</th>\n",
              "      <td>209.363770</td>\n",
              "      <td>445.125519</td>\n",
              "      <td>88.439995</td>\n",
              "      <td>413.595367</td>\n",
              "    </tr>\n",
              "    <tr>\n",
              "      <th>4</th>\n",
              "      <td>132.681076</td>\n",
              "      <td>484.715393</td>\n",
              "      <td>40.573833</td>\n",
              "      <td>442.267853</td>\n",
              "    </tr>\n",
              "  </tbody>\n",
              "</table>\n",
              "</div>"
            ],
            "text/plain": [
              "           x1          x2          y1          y2\n",
              "0  240.167175  432.773895   81.385986  394.473724\n",
              "1   77.352890  568.665161  141.326401  347.898071\n",
              "2  134.261871  489.630341   56.750320  423.746490\n",
              "3  209.363770  445.125519   88.439995  413.595367\n",
              "4  132.681076  484.715393   40.573833  442.267853"
            ]
          },
          "metadata": {
            "tags": []
          },
          "execution_count": 38
        }
      ]
    },
    {
      "metadata": {
        "id": "a7sFSPZ9swHq",
        "colab_type": "code",
        "colab": {}
      },
      "cell_type": "code",
      "source": [
        "names = df['image_name']"
      ],
      "execution_count": 0,
      "outputs": []
    },
    {
      "metadata": {
        "id": "yzVb9fXSs4Qo",
        "colab_type": "code",
        "colab": {}
      },
      "cell_type": "code",
      "source": [
        "mdf = pd.DataFrame({'image_name':names})"
      ],
      "execution_count": 0,
      "outputs": []
    },
    {
      "metadata": {
        "id": "sXLyR9yQs5tU",
        "colab_type": "code",
        "outputId": "cf07b60a-36d4-4816-c3a0-8b9e3fe7f418",
        "colab": {
          "base_uri": "https://localhost:8080/",
          "height": 195
        }
      },
      "cell_type": "code",
      "source": [
        "mdf.head()"
      ],
      "execution_count": 0,
      "outputs": [
        {
          "output_type": "execute_result",
          "data": {
            "text/html": [
              "<div>\n",
              "<style scoped>\n",
              "    .dataframe tbody tr th:only-of-type {\n",
              "        vertical-align: middle;\n",
              "    }\n",
              "\n",
              "    .dataframe tbody tr th {\n",
              "        vertical-align: top;\n",
              "    }\n",
              "\n",
              "    .dataframe thead th {\n",
              "        text-align: right;\n",
              "    }\n",
              "</style>\n",
              "<table border=\"1\" class=\"dataframe\">\n",
              "  <thead>\n",
              "    <tr style=\"text-align: right;\">\n",
              "      <th></th>\n",
              "      <th>image_name</th>\n",
              "    </tr>\n",
              "  </thead>\n",
              "  <tbody>\n",
              "    <tr>\n",
              "      <th>0</th>\n",
              "      <td>1474723840903DSC08089.png</td>\n",
              "    </tr>\n",
              "    <tr>\n",
              "      <th>1</th>\n",
              "      <td>1473231475010DeeplearnS11276.png</td>\n",
              "    </tr>\n",
              "    <tr>\n",
              "      <th>2</th>\n",
              "      <td>JPEG_20161205_135307_1000155917326.png</td>\n",
              "    </tr>\n",
              "    <tr>\n",
              "      <th>3</th>\n",
              "      <td>JPEG_20160711_123440_1000518778437.png</td>\n",
              "    </tr>\n",
              "    <tr>\n",
              "      <th>4</th>\n",
              "      <td>JPEG_20160803_115329_100034020722.png</td>\n",
              "    </tr>\n",
              "  </tbody>\n",
              "</table>\n",
              "</div>"
            ],
            "text/plain": [
              "                               image_name\n",
              "0               1474723840903DSC08089.png\n",
              "1        1473231475010DeeplearnS11276.png\n",
              "2  JPEG_20161205_135307_1000155917326.png\n",
              "3  JPEG_20160711_123440_1000518778437.png\n",
              "4   JPEG_20160803_115329_100034020722.png"
            ]
          },
          "metadata": {
            "tags": []
          },
          "execution_count": 41
        }
      ]
    },
    {
      "metadata": {
        "id": "DHf7T1smtHnv",
        "colab_type": "code",
        "outputId": "d022c969-4993-48c8-d59d-76f07ee371ad",
        "colab": {
          "base_uri": "https://localhost:8080/",
          "height": 1882
        }
      },
      "cell_type": "code",
      "source": [
        "df_all_cols = pd.concat([mdf,dataFrame ], axis = 1)\n",
        "df_all_cols"
      ],
      "execution_count": 0,
      "outputs": [
        {
          "output_type": "execute_result",
          "data": {
            "text/html": [
              "<div>\n",
              "<style scoped>\n",
              "    .dataframe tbody tr th:only-of-type {\n",
              "        vertical-align: middle;\n",
              "    }\n",
              "\n",
              "    .dataframe tbody tr th {\n",
              "        vertical-align: top;\n",
              "    }\n",
              "\n",
              "    .dataframe thead th {\n",
              "        text-align: right;\n",
              "    }\n",
              "</style>\n",
              "<table border=\"1\" class=\"dataframe\">\n",
              "  <thead>\n",
              "    <tr style=\"text-align: right;\">\n",
              "      <th></th>\n",
              "      <th>image_name</th>\n",
              "      <th>x1</th>\n",
              "      <th>x2</th>\n",
              "      <th>y1</th>\n",
              "      <th>y2</th>\n",
              "    </tr>\n",
              "  </thead>\n",
              "  <tbody>\n",
              "    <tr>\n",
              "      <th>0</th>\n",
              "      <td>1474723840903DSC08089.png</td>\n",
              "      <td>240.167175</td>\n",
              "      <td>432.773895</td>\n",
              "      <td>81.385986</td>\n",
              "      <td>394.473724</td>\n",
              "    </tr>\n",
              "    <tr>\n",
              "      <th>1</th>\n",
              "      <td>1473231475010DeeplearnS11276.png</td>\n",
              "      <td>77.352890</td>\n",
              "      <td>568.665161</td>\n",
              "      <td>141.326401</td>\n",
              "      <td>347.898071</td>\n",
              "    </tr>\n",
              "    <tr>\n",
              "      <th>2</th>\n",
              "      <td>JPEG_20161205_135307_1000155917326.png</td>\n",
              "      <td>134.261871</td>\n",
              "      <td>489.630341</td>\n",
              "      <td>56.750320</td>\n",
              "      <td>423.746490</td>\n",
              "    </tr>\n",
              "    <tr>\n",
              "      <th>3</th>\n",
              "      <td>JPEG_20160711_123440_1000518778437.png</td>\n",
              "      <td>209.363770</td>\n",
              "      <td>445.125519</td>\n",
              "      <td>88.439995</td>\n",
              "      <td>413.595367</td>\n",
              "    </tr>\n",
              "    <tr>\n",
              "      <th>4</th>\n",
              "      <td>JPEG_20160803_115329_100034020722.png</td>\n",
              "      <td>132.681076</td>\n",
              "      <td>484.715393</td>\n",
              "      <td>40.573833</td>\n",
              "      <td>442.267853</td>\n",
              "    </tr>\n",
              "    <tr>\n",
              "      <th>5</th>\n",
              "      <td>147444974116511473239803010-Mast--Harbour-Men-...</td>\n",
              "      <td>176.592804</td>\n",
              "      <td>356.167053</td>\n",
              "      <td>5.840404</td>\n",
              "      <td>467.596222</td>\n",
              "    </tr>\n",
              "    <tr>\n",
              "      <th>6</th>\n",
              "      <td>JPEG_20160622_110649_1000527459853.png</td>\n",
              "      <td>131.923569</td>\n",
              "      <td>507.590149</td>\n",
              "      <td>73.030663</td>\n",
              "      <td>360.061127</td>\n",
              "    </tr>\n",
              "    <tr>\n",
              "      <th>7</th>\n",
              "      <td>JPEG_20160823_120737_1000784898268.png</td>\n",
              "      <td>84.360130</td>\n",
              "      <td>426.641479</td>\n",
              "      <td>118.394180</td>\n",
              "      <td>372.035767</td>\n",
              "    </tr>\n",
              "    <tr>\n",
              "      <th>8</th>\n",
              "      <td>1480965956645IMG_3094.png</td>\n",
              "      <td>197.808670</td>\n",
              "      <td>423.739960</td>\n",
              "      <td>165.883423</td>\n",
              "      <td>386.336334</td>\n",
              "    </tr>\n",
              "    <tr>\n",
              "      <th>9</th>\n",
              "      <td>14732348976417a565e40d545452688130062b267a2d2.png</td>\n",
              "      <td>26.311104</td>\n",
              "      <td>583.110107</td>\n",
              "      <td>0.000000</td>\n",
              "      <td>480.000000</td>\n",
              "    </tr>\n",
              "    <tr>\n",
              "      <th>10</th>\n",
              "      <td>1474723374370DSC07852.png</td>\n",
              "      <td>285.000885</td>\n",
              "      <td>437.428802</td>\n",
              "      <td>14.606706</td>\n",
              "      <td>464.199799</td>\n",
              "    </tr>\n",
              "    <tr>\n",
              "      <th>11</th>\n",
              "      <td>JPEG_20160820_111118_100011668802.png</td>\n",
              "      <td>252.922607</td>\n",
              "      <td>379.154846</td>\n",
              "      <td>85.632568</td>\n",
              "      <td>436.496918</td>\n",
              "    </tr>\n",
              "    <tr>\n",
              "      <th>12</th>\n",
              "      <td>JPEG_20160706_105226_100087855419.png</td>\n",
              "      <td>144.402817</td>\n",
              "      <td>434.918304</td>\n",
              "      <td>170.278152</td>\n",
              "      <td>289.369965</td>\n",
              "    </tr>\n",
              "    <tr>\n",
              "      <th>13</th>\n",
              "      <td>JPEG_20160621_155839_100073846506.png</td>\n",
              "      <td>204.948105</td>\n",
              "      <td>440.899078</td>\n",
              "      <td>84.120087</td>\n",
              "      <td>390.779816</td>\n",
              "    </tr>\n",
              "    <tr>\n",
              "      <th>14</th>\n",
              "      <td>1480940089861_R2A1904.png</td>\n",
              "      <td>178.168472</td>\n",
              "      <td>499.928162</td>\n",
              "      <td>162.178101</td>\n",
              "      <td>350.367950</td>\n",
              "    </tr>\n",
              "    <tr>\n",
              "      <th>15</th>\n",
              "      <td>1474637513144DSC06780.png</td>\n",
              "      <td>207.446426</td>\n",
              "      <td>424.277283</td>\n",
              "      <td>58.664482</td>\n",
              "      <td>428.790771</td>\n",
              "    </tr>\n",
              "    <tr>\n",
              "      <th>16</th>\n",
              "      <td>JPEG_20161123_170015_1000183903221.png</td>\n",
              "      <td>277.158722</td>\n",
              "      <td>365.078888</td>\n",
              "      <td>10.602569</td>\n",
              "      <td>408.163666</td>\n",
              "    </tr>\n",
              "    <tr>\n",
              "      <th>17</th>\n",
              "      <td>JPEG_20161205_152655_1000319785884.png</td>\n",
              "      <td>51.494011</td>\n",
              "      <td>468.109009</td>\n",
              "      <td>51.136223</td>\n",
              "      <td>401.529358</td>\n",
              "    </tr>\n",
              "    <tr>\n",
              "      <th>18</th>\n",
              "      <td>14806550588121473324459p2-500x500.png</td>\n",
              "      <td>157.890335</td>\n",
              "      <td>504.446533</td>\n",
              "      <td>20.257343</td>\n",
              "      <td>411.139404</td>\n",
              "    </tr>\n",
              "    <tr>\n",
              "      <th>19</th>\n",
              "      <td>JPEG_20160913_110021_1000554801748.png</td>\n",
              "      <td>129.512878</td>\n",
              "      <td>586.586914</td>\n",
              "      <td>129.056381</td>\n",
              "      <td>320.336517</td>\n",
              "    </tr>\n",
              "    <tr>\n",
              "      <th>20</th>\n",
              "      <td>JPEG_20161028_113656_1000884495593.png</td>\n",
              "      <td>70.131348</td>\n",
              "      <td>525.681519</td>\n",
              "      <td>77.729446</td>\n",
              "      <td>440.460358</td>\n",
              "    </tr>\n",
              "    <tr>\n",
              "      <th>21</th>\n",
              "      <td>1480485006674IMG_20161129_181135.png</td>\n",
              "      <td>34.500366</td>\n",
              "      <td>618.566284</td>\n",
              "      <td>89.528534</td>\n",
              "      <td>403.586731</td>\n",
              "    </tr>\n",
              "    <tr>\n",
              "      <th>22</th>\n",
              "      <td>1468666217374JPEG_20160712_164026_100095190148...</td>\n",
              "      <td>49.111534</td>\n",
              "      <td>603.229553</td>\n",
              "      <td>203.058182</td>\n",
              "      <td>293.256317</td>\n",
              "    </tr>\n",
              "    <tr>\n",
              "      <th>23</th>\n",
              "      <td>1475159286472DSC08150.png</td>\n",
              "      <td>264.218811</td>\n",
              "      <td>399.075012</td>\n",
              "      <td>144.869461</td>\n",
              "      <td>390.782562</td>\n",
              "    </tr>\n",
              "    <tr>\n",
              "      <th>24</th>\n",
              "      <td>1473662770499DeeplearnS11593.png</td>\n",
              "      <td>4.333352</td>\n",
              "      <td>612.753906</td>\n",
              "      <td>46.211922</td>\n",
              "      <td>431.729889</td>\n",
              "    </tr>\n",
              "    <tr>\n",
              "      <th>25</th>\n",
              "      <td>JPEG_20161121_172423_1000451802749.png</td>\n",
              "      <td>142.993866</td>\n",
              "      <td>538.526245</td>\n",
              "      <td>144.057632</td>\n",
              "      <td>406.233215</td>\n",
              "    </tr>\n",
              "    <tr>\n",
              "      <th>26</th>\n",
              "      <td>JPEG_20160711_112635_1000386061474.png</td>\n",
              "      <td>203.130371</td>\n",
              "      <td>602.349670</td>\n",
              "      <td>192.004761</td>\n",
              "      <td>312.128235</td>\n",
              "    </tr>\n",
              "    <tr>\n",
              "      <th>27</th>\n",
              "      <td>JPEG_20161125_170806_1000294132098.png</td>\n",
              "      <td>164.976578</td>\n",
              "      <td>452.626312</td>\n",
              "      <td>37.530815</td>\n",
              "      <td>441.062988</td>\n",
              "    </tr>\n",
              "    <tr>\n",
              "      <th>28</th>\n",
              "      <td>1473664771684DeeplearnS11641.png</td>\n",
              "      <td>73.691780</td>\n",
              "      <td>577.040894</td>\n",
              "      <td>144.051620</td>\n",
              "      <td>327.904846</td>\n",
              "    </tr>\n",
              "    <tr>\n",
              "      <th>29</th>\n",
              "      <td>JPEG_20161125_142000_1000881308475.png</td>\n",
              "      <td>116.869438</td>\n",
              "      <td>444.130615</td>\n",
              "      <td>47.297028</td>\n",
              "      <td>464.952240</td>\n",
              "    </tr>\n",
              "    <tr>\n",
              "      <th>...</th>\n",
              "      <td>...</td>\n",
              "      <td>...</td>\n",
              "      <td>...</td>\n",
              "      <td>...</td>\n",
              "      <td>...</td>\n",
              "    </tr>\n",
              "    <tr>\n",
              "      <th>12785</th>\n",
              "      <td>JPEG_20160527_155707_1000436681221.png</td>\n",
              "      <td>129.800446</td>\n",
              "      <td>417.678162</td>\n",
              "      <td>0.000000</td>\n",
              "      <td>477.230286</td>\n",
              "    </tr>\n",
              "    <tr>\n",
              "      <th>12786</th>\n",
              "      <td>1472036697076pyellow1.png</td>\n",
              "      <td>62.897114</td>\n",
              "      <td>560.464111</td>\n",
              "      <td>1.970742</td>\n",
              "      <td>442.164978</td>\n",
              "    </tr>\n",
              "    <tr>\n",
              "      <th>12787</th>\n",
              "      <td>1473315151219DeeplearnS11541.png</td>\n",
              "      <td>77.086937</td>\n",
              "      <td>603.781982</td>\n",
              "      <td>23.701118</td>\n",
              "      <td>429.877167</td>\n",
              "    </tr>\n",
              "    <tr>\n",
              "      <th>12788</th>\n",
              "      <td>JPEG_20161114_164147_1000717591566.png</td>\n",
              "      <td>113.978539</td>\n",
              "      <td>481.186096</td>\n",
              "      <td>100.700394</td>\n",
              "      <td>444.749268</td>\n",
              "    </tr>\n",
              "    <tr>\n",
              "      <th>12789</th>\n",
              "      <td>JPEG_20160810_125457_1000618891946.png</td>\n",
              "      <td>175.734833</td>\n",
              "      <td>461.592468</td>\n",
              "      <td>35.249302</td>\n",
              "      <td>464.575317</td>\n",
              "    </tr>\n",
              "    <tr>\n",
              "      <th>12790</th>\n",
              "      <td>1473662761056DeeplearnS11590.png</td>\n",
              "      <td>75.320541</td>\n",
              "      <td>575.263977</td>\n",
              "      <td>140.068954</td>\n",
              "      <td>343.198792</td>\n",
              "    </tr>\n",
              "    <tr>\n",
              "      <th>12791</th>\n",
              "      <td>1474724287220DSC08133.png</td>\n",
              "      <td>74.579163</td>\n",
              "      <td>571.581055</td>\n",
              "      <td>63.521149</td>\n",
              "      <td>411.746735</td>\n",
              "    </tr>\n",
              "    <tr>\n",
              "      <th>12792</th>\n",
              "      <td>JPEG_20160924_140500_1000708658172.png</td>\n",
              "      <td>73.040474</td>\n",
              "      <td>507.788574</td>\n",
              "      <td>92.424812</td>\n",
              "      <td>393.307098</td>\n",
              "    </tr>\n",
              "    <tr>\n",
              "      <th>12793</th>\n",
              "      <td>JPEG_20160920_160831_1000416032132.png</td>\n",
              "      <td>115.783615</td>\n",
              "      <td>498.643311</td>\n",
              "      <td>36.336636</td>\n",
              "      <td>453.558075</td>\n",
              "    </tr>\n",
              "    <tr>\n",
              "      <th>12794</th>\n",
              "      <td>1475158952049DSC06915.png</td>\n",
              "      <td>187.120071</td>\n",
              "      <td>415.455811</td>\n",
              "      <td>35.123806</td>\n",
              "      <td>433.107544</td>\n",
              "    </tr>\n",
              "    <tr>\n",
              "      <th>12795</th>\n",
              "      <td>JPEG_20161130_182058_1000451372797.png</td>\n",
              "      <td>26.842766</td>\n",
              "      <td>626.894897</td>\n",
              "      <td>165.853394</td>\n",
              "      <td>329.218506</td>\n",
              "    </tr>\n",
              "    <tr>\n",
              "      <th>12796</th>\n",
              "      <td>JPEG_20160625_140951_1000716933208.png</td>\n",
              "      <td>201.814102</td>\n",
              "      <td>536.463013</td>\n",
              "      <td>86.568146</td>\n",
              "      <td>349.406799</td>\n",
              "    </tr>\n",
              "    <tr>\n",
              "      <th>12797</th>\n",
              "      <td>147772335227620161028_162146.png</td>\n",
              "      <td>30.857275</td>\n",
              "      <td>563.518311</td>\n",
              "      <td>36.258045</td>\n",
              "      <td>389.497559</td>\n",
              "    </tr>\n",
              "    <tr>\n",
              "      <th>12798</th>\n",
              "      <td>JPEG_20160704_123939_1000567540935.png</td>\n",
              "      <td>61.956009</td>\n",
              "      <td>516.711853</td>\n",
              "      <td>148.185944</td>\n",
              "      <td>329.514038</td>\n",
              "    </tr>\n",
              "    <tr>\n",
              "      <th>12799</th>\n",
              "      <td>JPEG_20161123_190951_1000625148732.png</td>\n",
              "      <td>203.563049</td>\n",
              "      <td>414.192108</td>\n",
              "      <td>29.137856</td>\n",
              "      <td>445.612061</td>\n",
              "    </tr>\n",
              "    <tr>\n",
              "      <th>12800</th>\n",
              "      <td>JPEG_20160629_101156_1000325247520.png</td>\n",
              "      <td>185.354218</td>\n",
              "      <td>403.966003</td>\n",
              "      <td>75.146210</td>\n",
              "      <td>389.568237</td>\n",
              "    </tr>\n",
              "    <tr>\n",
              "      <th>12801</th>\n",
              "      <td>1480066922928IMG_0070.png</td>\n",
              "      <td>105.752876</td>\n",
              "      <td>500.773193</td>\n",
              "      <td>157.780121</td>\n",
              "      <td>356.276794</td>\n",
              "    </tr>\n",
              "    <tr>\n",
              "      <th>12802</th>\n",
              "      <td>1466828838707IMG_0012.png</td>\n",
              "      <td>37.494949</td>\n",
              "      <td>549.079163</td>\n",
              "      <td>42.231907</td>\n",
              "      <td>374.909607</td>\n",
              "    </tr>\n",
              "    <tr>\n",
              "      <th>12803</th>\n",
              "      <td>1473661129579DeeplearnS11485.png</td>\n",
              "      <td>85.089424</td>\n",
              "      <td>640.000000</td>\n",
              "      <td>0.000000</td>\n",
              "      <td>440.791016</td>\n",
              "    </tr>\n",
              "    <tr>\n",
              "      <th>12804</th>\n",
              "      <td>JPEG_20161126_174407_1000803975586.png</td>\n",
              "      <td>99.644730</td>\n",
              "      <td>574.716187</td>\n",
              "      <td>159.617615</td>\n",
              "      <td>319.972961</td>\n",
              "    </tr>\n",
              "    <tr>\n",
              "      <th>12805</th>\n",
              "      <td>JPEG_20161125_154250_1000612628801.png</td>\n",
              "      <td>159.057251</td>\n",
              "      <td>545.091919</td>\n",
              "      <td>7.133494</td>\n",
              "      <td>431.032104</td>\n",
              "    </tr>\n",
              "    <tr>\n",
              "      <th>12806</th>\n",
              "      <td>JPEG_20160607_135204_1000721004919.png</td>\n",
              "      <td>70.564362</td>\n",
              "      <td>590.691895</td>\n",
              "      <td>28.817871</td>\n",
              "      <td>480.000000</td>\n",
              "    </tr>\n",
              "    <tr>\n",
              "      <th>12807</th>\n",
              "      <td>1468495348616DSC_0193.png</td>\n",
              "      <td>95.174034</td>\n",
              "      <td>512.409912</td>\n",
              "      <td>124.751274</td>\n",
              "      <td>427.770844</td>\n",
              "    </tr>\n",
              "    <tr>\n",
              "      <th>12808</th>\n",
              "      <td>JPEG_20161126_141844_1000772813429.png</td>\n",
              "      <td>17.454775</td>\n",
              "      <td>629.480103</td>\n",
              "      <td>154.888092</td>\n",
              "      <td>413.472046</td>\n",
              "    </tr>\n",
              "    <tr>\n",
              "      <th>12809</th>\n",
              "      <td>1473751292174IMG_0982.png</td>\n",
              "      <td>102.191116</td>\n",
              "      <td>597.962769</td>\n",
              "      <td>131.561478</td>\n",
              "      <td>349.038544</td>\n",
              "    </tr>\n",
              "    <tr>\n",
              "      <th>12810</th>\n",
              "      <td>JPEG_20161104_103201_1000965398606.png</td>\n",
              "      <td>104.950340</td>\n",
              "      <td>531.705688</td>\n",
              "      <td>47.268311</td>\n",
              "      <td>457.384094</td>\n",
              "    </tr>\n",
              "    <tr>\n",
              "      <th>12811</th>\n",
              "      <td>JPEG_20160711_114732_1000663038627.png</td>\n",
              "      <td>267.216248</td>\n",
              "      <td>399.188721</td>\n",
              "      <td>34.738731</td>\n",
              "      <td>439.219635</td>\n",
              "    </tr>\n",
              "    <tr>\n",
              "      <th>12812</th>\n",
              "      <td>JPEG_20160621_104610_1000370989775.png</td>\n",
              "      <td>33.430199</td>\n",
              "      <td>455.291443</td>\n",
              "      <td>26.419931</td>\n",
              "      <td>449.972076</td>\n",
              "    </tr>\n",
              "    <tr>\n",
              "      <th>12813</th>\n",
              "      <td>JPEG_20160621_111238_1000136858311.png</td>\n",
              "      <td>219.368927</td>\n",
              "      <td>532.595093</td>\n",
              "      <td>134.608032</td>\n",
              "      <td>352.114990</td>\n",
              "    </tr>\n",
              "    <tr>\n",
              "      <th>12814</th>\n",
              "      <td>1473751123070IMG_0992.png</td>\n",
              "      <td>20.403927</td>\n",
              "      <td>595.743103</td>\n",
              "      <td>112.132652</td>\n",
              "      <td>371.559387</td>\n",
              "    </tr>\n",
              "  </tbody>\n",
              "</table>\n",
              "<p>12815 rows × 5 columns</p>\n",
              "</div>"
            ],
            "text/plain": [
              "                                              image_name          x1  \\\n",
              "0                              1474723840903DSC08089.png  240.167175   \n",
              "1                       1473231475010DeeplearnS11276.png   77.352890   \n",
              "2                 JPEG_20161205_135307_1000155917326.png  134.261871   \n",
              "3                 JPEG_20160711_123440_1000518778437.png  209.363770   \n",
              "4                  JPEG_20160803_115329_100034020722.png  132.681076   \n",
              "5      147444974116511473239803010-Mast--Harbour-Men-...  176.592804   \n",
              "6                 JPEG_20160622_110649_1000527459853.png  131.923569   \n",
              "7                 JPEG_20160823_120737_1000784898268.png   84.360130   \n",
              "8                              1480965956645IMG_3094.png  197.808670   \n",
              "9      14732348976417a565e40d545452688130062b267a2d2.png   26.311104   \n",
              "10                             1474723374370DSC07852.png  285.000885   \n",
              "11                 JPEG_20160820_111118_100011668802.png  252.922607   \n",
              "12                 JPEG_20160706_105226_100087855419.png  144.402817   \n",
              "13                 JPEG_20160621_155839_100073846506.png  204.948105   \n",
              "14                             1480940089861_R2A1904.png  178.168472   \n",
              "15                             1474637513144DSC06780.png  207.446426   \n",
              "16                JPEG_20161123_170015_1000183903221.png  277.158722   \n",
              "17                JPEG_20161205_152655_1000319785884.png   51.494011   \n",
              "18                 14806550588121473324459p2-500x500.png  157.890335   \n",
              "19                JPEG_20160913_110021_1000554801748.png  129.512878   \n",
              "20                JPEG_20161028_113656_1000884495593.png   70.131348   \n",
              "21                  1480485006674IMG_20161129_181135.png   34.500366   \n",
              "22     1468666217374JPEG_20160712_164026_100095190148...   49.111534   \n",
              "23                             1475159286472DSC08150.png  264.218811   \n",
              "24                      1473662770499DeeplearnS11593.png    4.333352   \n",
              "25                JPEG_20161121_172423_1000451802749.png  142.993866   \n",
              "26                JPEG_20160711_112635_1000386061474.png  203.130371   \n",
              "27                JPEG_20161125_170806_1000294132098.png  164.976578   \n",
              "28                      1473664771684DeeplearnS11641.png   73.691780   \n",
              "29                JPEG_20161125_142000_1000881308475.png  116.869438   \n",
              "...                                                  ...         ...   \n",
              "12785             JPEG_20160527_155707_1000436681221.png  129.800446   \n",
              "12786                          1472036697076pyellow1.png   62.897114   \n",
              "12787                   1473315151219DeeplearnS11541.png   77.086937   \n",
              "12788             JPEG_20161114_164147_1000717591566.png  113.978539   \n",
              "12789             JPEG_20160810_125457_1000618891946.png  175.734833   \n",
              "12790                   1473662761056DeeplearnS11590.png   75.320541   \n",
              "12791                          1474724287220DSC08133.png   74.579163   \n",
              "12792             JPEG_20160924_140500_1000708658172.png   73.040474   \n",
              "12793             JPEG_20160920_160831_1000416032132.png  115.783615   \n",
              "12794                          1475158952049DSC06915.png  187.120071   \n",
              "12795             JPEG_20161130_182058_1000451372797.png   26.842766   \n",
              "12796             JPEG_20160625_140951_1000716933208.png  201.814102   \n",
              "12797                   147772335227620161028_162146.png   30.857275   \n",
              "12798             JPEG_20160704_123939_1000567540935.png   61.956009   \n",
              "12799             JPEG_20161123_190951_1000625148732.png  203.563049   \n",
              "12800             JPEG_20160629_101156_1000325247520.png  185.354218   \n",
              "12801                          1480066922928IMG_0070.png  105.752876   \n",
              "12802                          1466828838707IMG_0012.png   37.494949   \n",
              "12803                   1473661129579DeeplearnS11485.png   85.089424   \n",
              "12804             JPEG_20161126_174407_1000803975586.png   99.644730   \n",
              "12805             JPEG_20161125_154250_1000612628801.png  159.057251   \n",
              "12806             JPEG_20160607_135204_1000721004919.png   70.564362   \n",
              "12807                          1468495348616DSC_0193.png   95.174034   \n",
              "12808             JPEG_20161126_141844_1000772813429.png   17.454775   \n",
              "12809                          1473751292174IMG_0982.png  102.191116   \n",
              "12810             JPEG_20161104_103201_1000965398606.png  104.950340   \n",
              "12811             JPEG_20160711_114732_1000663038627.png  267.216248   \n",
              "12812             JPEG_20160621_104610_1000370989775.png   33.430199   \n",
              "12813             JPEG_20160621_111238_1000136858311.png  219.368927   \n",
              "12814                          1473751123070IMG_0992.png   20.403927   \n",
              "\n",
              "               x2          y1          y2  \n",
              "0      432.773895   81.385986  394.473724  \n",
              "1      568.665161  141.326401  347.898071  \n",
              "2      489.630341   56.750320  423.746490  \n",
              "3      445.125519   88.439995  413.595367  \n",
              "4      484.715393   40.573833  442.267853  \n",
              "5      356.167053    5.840404  467.596222  \n",
              "6      507.590149   73.030663  360.061127  \n",
              "7      426.641479  118.394180  372.035767  \n",
              "8      423.739960  165.883423  386.336334  \n",
              "9      583.110107    0.000000  480.000000  \n",
              "10     437.428802   14.606706  464.199799  \n",
              "11     379.154846   85.632568  436.496918  \n",
              "12     434.918304  170.278152  289.369965  \n",
              "13     440.899078   84.120087  390.779816  \n",
              "14     499.928162  162.178101  350.367950  \n",
              "15     424.277283   58.664482  428.790771  \n",
              "16     365.078888   10.602569  408.163666  \n",
              "17     468.109009   51.136223  401.529358  \n",
              "18     504.446533   20.257343  411.139404  \n",
              "19     586.586914  129.056381  320.336517  \n",
              "20     525.681519   77.729446  440.460358  \n",
              "21     618.566284   89.528534  403.586731  \n",
              "22     603.229553  203.058182  293.256317  \n",
              "23     399.075012  144.869461  390.782562  \n",
              "24     612.753906   46.211922  431.729889  \n",
              "25     538.526245  144.057632  406.233215  \n",
              "26     602.349670  192.004761  312.128235  \n",
              "27     452.626312   37.530815  441.062988  \n",
              "28     577.040894  144.051620  327.904846  \n",
              "29     444.130615   47.297028  464.952240  \n",
              "...           ...         ...         ...  \n",
              "12785  417.678162    0.000000  477.230286  \n",
              "12786  560.464111    1.970742  442.164978  \n",
              "12787  603.781982   23.701118  429.877167  \n",
              "12788  481.186096  100.700394  444.749268  \n",
              "12789  461.592468   35.249302  464.575317  \n",
              "12790  575.263977  140.068954  343.198792  \n",
              "12791  571.581055   63.521149  411.746735  \n",
              "12792  507.788574   92.424812  393.307098  \n",
              "12793  498.643311   36.336636  453.558075  \n",
              "12794  415.455811   35.123806  433.107544  \n",
              "12795  626.894897  165.853394  329.218506  \n",
              "12796  536.463013   86.568146  349.406799  \n",
              "12797  563.518311   36.258045  389.497559  \n",
              "12798  516.711853  148.185944  329.514038  \n",
              "12799  414.192108   29.137856  445.612061  \n",
              "12800  403.966003   75.146210  389.568237  \n",
              "12801  500.773193  157.780121  356.276794  \n",
              "12802  549.079163   42.231907  374.909607  \n",
              "12803  640.000000    0.000000  440.791016  \n",
              "12804  574.716187  159.617615  319.972961  \n",
              "12805  545.091919    7.133494  431.032104  \n",
              "12806  590.691895   28.817871  480.000000  \n",
              "12807  512.409912  124.751274  427.770844  \n",
              "12808  629.480103  154.888092  413.472046  \n",
              "12809  597.962769  131.561478  349.038544  \n",
              "12810  531.705688   47.268311  457.384094  \n",
              "12811  399.188721   34.738731  439.219635  \n",
              "12812  455.291443   26.419931  449.972076  \n",
              "12813  532.595093  134.608032  352.114990  \n",
              "12814  595.743103  112.132652  371.559387  \n",
              "\n",
              "[12815 rows x 5 columns]"
            ]
          },
          "metadata": {
            "tags": []
          },
          "execution_count": 42
        }
      ]
    },
    {
      "metadata": {
        "id": "axYaC58HtyDj",
        "colab_type": "code",
        "colab": {}
      },
      "cell_type": "code",
      "source": [
        "df_all_cols.to_csv('./test4.csv', index = False)"
      ],
      "execution_count": 0,
      "outputs": []
    },
    {
      "metadata": {
        "id": "EUVwxHl70qm8",
        "colab_type": "code",
        "colab": {}
      },
      "cell_type": "code",
      "source": [
        ""
      ],
      "execution_count": 0,
      "outputs": []
    }
  ]
}