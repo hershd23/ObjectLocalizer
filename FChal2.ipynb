{
  "nbformat": 4,
  "nbformat_minor": 0,
  "metadata": {
    "colab": {
      "name": "FChal2.ipynb",
      "version": "0.3.2",
      "provenance": []
    },
    "kernelspec": {
      "name": "python3",
      "display_name": "Python 3"
    },
    "accelerator": "GPU"
  },
  "cells": [
    {
      "metadata": {
        "id": "bAsawU5-7UKS",
        "colab_type": "code",
        "colab": {}
      },
      "cell_type": "code",
      "source": [
        "from PIL import Image\n",
        "import numpy as np\n",
        "import pickle\n",
        "import random"
      ],
      "execution_count": 0,
      "outputs": []
    },
    {
      "metadata": {
        "id": "h6l3pYeF7ZRy",
        "colab_type": "code",
        "outputId": "77721aca-83ec-49e7-fc6f-c82ccff63b0f",
        "colab": {
          "base_uri": "https://localhost:8080/",
          "height": 34
        }
      },
      "cell_type": "code",
      "source": [
        "from google.colab import drive\n",
        "drive.mount('/content/drive')"
      ],
      "execution_count": 0,
      "outputs": [
        {
          "output_type": "stream",
          "text": [
            "Drive already mounted at /content/drive; to attempt to forcibly remount, call drive.mount(\"/content/drive\", force_remount=True).\n"
          ],
          "name": "stdout"
        }
      ]
    },
    {
      "metadata": {
        "id": "ptaR2Jt97gDN",
        "colab_type": "code",
        "outputId": "598b1e2f-3960-42be-c5e5-bd8b9089dda2",
        "colab": {
          "base_uri": "https://localhost:8080/",
          "height": 34
        }
      },
      "cell_type": "code",
      "source": [
        "cd /content/drive/My Drive/flipchal"
      ],
      "execution_count": 0,
      "outputs": [
        {
          "output_type": "stream",
          "text": [
            "/content/drive/My Drive/flipchal\n"
          ],
          "name": "stdout"
        }
      ]
    },
    {
      "metadata": {
        "id": "tJT6wDQze_YX",
        "colab_type": "code",
        "outputId": "0e9f5383-aebe-4012-f5ef-cb7218f17a7b",
        "colab": {
          "base_uri": "https://localhost:8080/",
          "height": 101
        }
      },
      "cell_type": "code",
      "source": [
        "lsF"
      ],
      "execution_count": 0,
      "outputs": [
        {
          "output_type": "stream",
          "text": [
            "id_to_box   id_to_data2  id_to_size3  test1.csv     test.gsheet\n",
            "id_to_box2  id_to_data3  id_to_size4  test1.gsheet  \u001b[0m\u001b[01;34mtest_set\u001b[0m/\n",
            "id_to_box3  id_to_data4  model2.h5    test2.csv     training.csv\n",
            "id_to_box4  id_to_size   model.h5     test3.csv     \u001b[01;34mtrain_set\u001b[0m/\n",
            "id_to_data  id_to_size2  \u001b[01;34mp1\u001b[0m/          test.csv      Untitled.ipynb\n"
          ],
          "name": "stdout"
        }
      ]
    },
    {
      "metadata": {
        "id": "JBPfSvv77pij",
        "colab_type": "code",
        "colab": {}
      },
      "cell_type": "code",
      "source": [
        "import numpy as np"
      ],
      "execution_count": 0,
      "outputs": []
    },
    {
      "metadata": {
        "id": "ZS4N0IWa7tMq",
        "colab_type": "code",
        "colab": {}
      },
      "cell_type": "code",
      "source": [
        "def Normalize(image,mean,std):\n",
        "    for channel in range(3):\n",
        "        image[:,:,channel]=(image[:,:,channel]-mean[channel])/std[channel]\n",
        "    return image"
      ],
      "execution_count": 0,
      "outputs": []
    },
    {
      "metadata": {
        "id": "sncLWhb91fy6",
        "colab_type": "text"
      },
      "cell_type": "markdown",
      "source": [
        "## Skip the next few ones if you have processed the data already"
      ]
    },
    {
      "metadata": {
        "id": "2EUP-_Rh7zEn",
        "colab_type": "code",
        "colab": {}
      },
      "cell_type": "code",
      "source": [
        "id_to_data={}\n",
        "id_to_size={}"
      ],
      "execution_count": 0,
      "outputs": []
    },
    {
      "metadata": {
        "id": "8WpS1TKZ74Fr",
        "colab_type": "code",
        "colab": {}
      },
      "cell_type": "code",
      "source": [
        "with open(\"./data/images.txt\") as f:\n",
        "    lines=f.read().splitlines()\n",
        "    for line in lines:\n",
        "        id,path=line.split(\" \",1)\n",
        "        if int(id) <4000:\n",
        "            image=Image.open(\"./data/images/\"+path).convert('RGB')\n",
        "            id_to_size[int(id)]=np.array(image,dtype=np.float32).shape[0:2]\n",
        "            image=image.resize((224,224))\n",
        "            image=np.array(image,dtype=np.float32)\n",
        "            image=image/255\n",
        "            image=Normalize(image,[0.485,0.456,0.406],[0.229,0.224,0.225])\n",
        "            id_to_data[int(id)]=image\n",
        "            if (int(id)%500)==0:\n",
        "                print('Pic no '+ id+' ')"
      ],
      "execution_count": 0,
      "outputs": []
    },
    {
      "metadata": {
        "id": "anfrRwxi78mD",
        "colab_type": "code",
        "colab": {}
      },
      "cell_type": "code",
      "source": [
        "id_to_data=np.array(list(id_to_data.values()))\n",
        "id_to_size=np.array(list(id_to_size.values()))"
      ],
      "execution_count": 0,
      "outputs": []
    },
    {
      "metadata": {
        "id": "I0Mvlywtwd1A",
        "colab_type": "code",
        "colab": {}
      },
      "cell_type": "code",
      "source": [
        ""
      ],
      "execution_count": 0,
      "outputs": []
    },
    {
      "metadata": {
        "id": "IGRfQwPaMInH",
        "colab_type": "code",
        "colab": {}
      },
      "cell_type": "code",
      "source": [
        "id_to_box={}"
      ],
      "execution_count": 0,
      "outputs": []
    },
    {
      "metadata": {
        "id": "0LqKvio4MOA2",
        "colab_type": "code",
        "outputId": "a919ce16-016d-4d3f-acf1-bb38c81f4fb7",
        "colab": {
          "base_uri": "https://localhost:8080/",
          "height": 134
        }
      },
      "cell_type": "code",
      "source": [
        "with open(\"./data/bounding_boxes.txt\") as f:\n",
        "    lines=f.read().splitlines()\n",
        "    for line in lines:\n",
        "        id,box=line.split(\" \",1)\n",
        "        if int(id) <4000:\n",
        "          box=np.array([float(i) for i in box.split(\" \")],dtype=np.float32)\n",
        "          box[0]=box[0]/id_to_size[int(id)-1][1]*224\n",
        "          box[1]=box[1]/id_to_size[int(id)-1][0]*224\n",
        "          box[2]=box[2]/id_to_size[int(id)-1][1]*224\n",
        "          box[3]=box[3]/id_to_size[int(id)-1][0]*224\n",
        "          id_to_box[int(id)]=box\n",
        "          if (int(id)%500)==0:\n",
        "              print('Pic no '+ id+' ')"
      ],
      "execution_count": 0,
      "outputs": [
        {
          "output_type": "stream",
          "text": [
            "Pic no 500 \n",
            "Pic no 1000 \n",
            "Pic no 1500 \n",
            "Pic no 2000 \n",
            "Pic no 2500 \n",
            "Pic no 3000 \n",
            "Pic no 3500 \n"
          ],
          "name": "stdout"
        }
      ]
    },
    {
      "metadata": {
        "id": "m4BI8dkKt5Mv",
        "colab_type": "code",
        "colab": {}
      },
      "cell_type": "code",
      "source": [
        "f=open(\"./id_to_data\",\"wb+\")\n",
        "pickle.dump(id_to_data,f,protocol=2)\n",
        "print('ID data file written')\n",
        "f=open(\"./id_to_size\",\"wb+\")\n",
        "pickle.dump(id_to_size,f,protocol=2)"
      ],
      "execution_count": 0,
      "outputs": []
    },
    {
      "metadata": {
        "id": "0PgpUu3SMUz4",
        "colab_type": "code",
        "colab": {}
      },
      "cell_type": "code",
      "source": [
        "id_to_box=np.array(list(id_to_box.values()))"
      ],
      "execution_count": 0,
      "outputs": []
    },
    {
      "metadata": {
        "id": "9s33TTVkMW7G",
        "colab_type": "code",
        "colab": {}
      },
      "cell_type": "code",
      "source": [
        "def getdata():\n",
        "    # read data and shuffle\n",
        "    index=[i for i in range(3499)]\n",
        "    random.shuffle(index)\n",
        "    \n",
        "    f = open(\"./id_to_data\",\"rb+\")\n",
        "    data = pickle.load(f)\n",
        "    data=data[index]\n",
        "    data_train=data[0:3499]\n",
        "\n",
        "    f = open(\"./id_to_box\",\"rb+\")\n",
        "    box = pickle.load(f)\n",
        "    box=box[index]\n",
        "    box_train=box[0:3499]\n",
        "    \n",
        "    return data_train,box_train"
      ],
      "execution_count": 0,
      "outputs": []
    },
    {
      "metadata": {
        "id": "cI7yILZcMcDh",
        "colab_type": "code",
        "colab": {}
      },
      "cell_type": "code",
      "source": [
        "def plot_model(model_details):\n",
        "    fig, axs = plt.subplots(1,2,figsize=(15,5))\n",
        "\n",
        "    axs[0].plot(range(1,len(model_details.history['my_metric'])+1),model_details.history['my_metric'])\n",
        "    axs[0].plot(range(1,len(model_details.history['val_my_metric'])+1),[1.7*x for x in model_details.history['val_my_metric']])\n",
        "    axs[0].set_title('Model Accuracy')\n",
        "    axs[0].set_ylabel('Accuracy')\n",
        "    axs[0].set_xlabel('Epoch')\n",
        "    axs[0].set_xticks(np.arange(1,len(model_details.history['my_metric'])+1),len(model_details.history['my_metric'])/10)\n",
        "    axs[0].legend(['train', 'val'], loc='best')\n",
        "\n",
        "    axs[1].plot(range(1,len(model_details.history['loss'])+1),model_details.history['loss'])\n",
        "    axs[1].plot(range(1,len(model_details.history['val_loss'])+1),model_details.history['val_loss'])\n",
        "    axs[1].set_title('Model Loss')\n",
        "    axs[1].set_ylabel('Loss')\n",
        "    axs[1].set_xlabel('Epoch')\n",
        "    axs[1].set_xticks(np.arange(1,len(model_details.history['loss'])+1),len(model_details.history['loss'])/10)\n",
        "    axs[1].legend(['train', 'val'], loc='best')\n",
        "\n",
        "    plt.savefig(\"model.png\")"
      ],
      "execution_count": 0,
      "outputs": []
    },
    {
      "metadata": {
        "id": "GGXdDdPOMcvZ",
        "colab_type": "code",
        "outputId": "a18d0737-18f3-4107-c544-e855a80ad465",
        "colab": {
          "base_uri": "https://localhost:8080/",
          "height": 34
        }
      },
      "cell_type": "code",
      "source": [
        "import tensorflow as tf\n",
        "import keras\n",
        "from keras.layers import Dense, Conv2D, BatchNormalization, Activation\n",
        "from keras.layers import AveragePooling2D, MaxPooling2D, Input, Flatten\n",
        "from keras.optimizers import Adam\n",
        "from keras.regularizers import l2\n",
        "from keras import backend as K\n",
        "from keras.models import Model,load_model\n",
        "from keras.callbacks import ModelCheckpoint,LearningRateScheduler,ReduceLROnPlateau"
      ],
      "execution_count": 0,
      "outputs": [
        {
          "output_type": "stream",
          "text": [
            "Using TensorFlow backend.\n"
          ],
          "name": "stderr"
        }
      ]
    },
    {
      "metadata": {
        "id": "xsNdJSZVMeNC",
        "colab_type": "code",
        "colab": {}
      },
      "cell_type": "code",
      "source": [
        "data_train,box_train=getdata()"
      ],
      "execution_count": 0,
      "outputs": []
    },
    {
      "metadata": {
        "id": "xx6DtmMRRqNr",
        "colab_type": "code",
        "outputId": "0e981fa2-eebc-43e2-b437-74aa762c5a18",
        "colab": {
          "base_uri": "https://localhost:8080/",
          "height": 134
        }
      },
      "cell_type": "code",
      "source": [
        "box_train"
      ],
      "execution_count": 0,
      "outputs": [
        {
          "output_type": "execute_result",
          "data": {
            "text/plain": [
              "array([[ 41.3     ,  46.2     , 149.45    ,  88.66667 ],\n",
              "       [ 18.199999,  83.066666, 201.59999 ,  60.666668],\n",
              "       [ 43.05    ,  51.8     , 171.84999 , 109.66667 ],\n",
              "       ...,\n",
              "       [ 54.600002,  21.      , 116.90001 , 158.66666 ],\n",
              "       [ 18.550001,  49.      , 143.15001 , 111.53333 ],\n",
              "       [ 17.5     ,  79.799995, 189.7     ,  45.733334]], dtype=float32)"
            ]
          },
          "metadata": {
            "tags": []
          },
          "execution_count": 24
        }
      ]
    },
    {
      "metadata": {
        "id": "kvxFJg2RMgEm",
        "colab_type": "code",
        "colab": {}
      },
      "cell_type": "code",
      "source": [
        "def my_metric(labels,predictions):\n",
        "    threshhold=0.75\n",
        "    x=predictions[:,0]*224\n",
        "    x=tf.maximum(tf.minimum(x,224.0),0.0)\n",
        "    y=predictions[:,1]*224\n",
        "    y=tf.maximum(tf.minimum(y,224.0),0.0)\n",
        "    width=predictions[:,2]*224\n",
        "    width=tf.maximum(tf.minimum(width,224.0),0.0)\n",
        "    height=predictions[:,3]*224\n",
        "    height=tf.maximum(tf.minimum(height,224.0),0.0)\n",
        "    label_x=labels[:,0]\n",
        "    label_y=labels[:,1]\n",
        "    label_width=labels[:,2]\n",
        "    label_height=labels[:,3]\n",
        "    a1=tf.multiply(width,height)\n",
        "    a2=tf.multiply(label_width,label_height)\n",
        "    x1=tf.maximum(x,label_x)\n",
        "    y1=tf.maximum(y,label_y)\n",
        "    x2=tf.minimum(x+width,label_x+label_width)\n",
        "    y2=tf.minimum(y+height,label_y+label_height)\n",
        "    IoU=tf.abs(tf.multiply((x1-x2),(y1-y2)))/(a1+a2-tf.abs(tf.multiply((x1-x2),(y1-y2))))\n",
        "    condition=tf.less(threshhold,IoU)\n",
        "    sum=tf.where(condition,tf.ones(tf.shape(condition)),tf.zeros(tf.shape(condition)))\n",
        "    return tf.reduce_mean(sum)"
      ],
      "execution_count": 0,
      "outputs": []
    },
    {
      "metadata": {
        "id": "-bRzD-gCM3IW",
        "colab_type": "code",
        "colab": {}
      },
      "cell_type": "code",
      "source": [
        "def smooth_l1_loss(true_box,pred_box):\n",
        "    loss=0.0\n",
        "    for i in range(4):\n",
        "        residual=tf.abs(true_box[:,i]-pred_box[:,i]*224)\n",
        "        condition=tf.less(residual,1.0)\n",
        "        small_res=0.5*tf.square(residual)\n",
        "        large_res=residual-0.5\n",
        "        loss=loss+tf.where(condition,small_res,large_res)\n",
        "    return tf.reduce_mean(loss)"
      ],
      "execution_count": 0,
      "outputs": []
    },
    {
      "metadata": {
        "id": "AmmIkbjfM4ql",
        "colab_type": "code",
        "colab": {}
      },
      "cell_type": "code",
      "source": [
        "def resnet_block(inputs,num_filters,kernel_size,strides,activation='relu'):\n",
        "    x=Conv2D(num_filters,kernel_size=kernel_size,strides=strides,padding='same',kernel_initializer='he_normal',kernel_regularizer=l2(1e-3))(inputs)\n",
        "    x=BatchNormalization()(x)\n",
        "    if(activation):\n",
        "        x=Activation('relu')(x)\n",
        "    return x"
      ],
      "execution_count": 0,
      "outputs": []
    },
    {
      "metadata": {
        "id": "4WQigJEOM573",
        "colab_type": "code",
        "colab": {}
      },
      "cell_type": "code",
      "source": [
        "def resnet18():\n",
        "    inputs=Input((224,224,3))\n",
        "    \n",
        "    # conv1\n",
        "    x=resnet_block(inputs,64,[7,7],2)\n",
        "\n",
        "    # conv2\n",
        "    x=MaxPooling2D([3,3],2,'same')(x)\n",
        "    for i in range(2):\n",
        "        a=resnet_block(x,64,[3,3],1)\n",
        "        b=resnet_block(a,64,[3,3],1,activation=None)\n",
        "        x=keras.layers.add([x,b])\n",
        "        x=Activation('relu')(x)\n",
        "    \n",
        "    # conv3\n",
        "    a=resnet_block(x,128,[1,1],2)\n",
        "    b=resnet_block(a,128,[3,3],1,activation=None)\n",
        "    x=Conv2D(128,kernel_size=[1,1],strides=2,padding='same',kernel_initializer='he_normal',kernel_regularizer=l2(1e-3))(x)\n",
        "    x=keras.layers.add([x,b])\n",
        "    x=Activation('relu')(x)\n",
        "\n",
        "    a=resnet_block(x,128,[3,3],1)\n",
        "    b=resnet_block(a,128,[3,3],1,activation=None)\n",
        "    x=keras.layers.add([x,b])\n",
        "    x=Activation('relu')(x)\n",
        "\n",
        "    # conv4\n",
        "    a=resnet_block(x,256,[1,1],2)\n",
        "    b=resnet_block(a,256,[3,3],1,activation=None)\n",
        "    x=Conv2D(256,kernel_size=[1,1],strides=2,padding='same',kernel_initializer='he_normal',kernel_regularizer=l2(1e-3))(x)\n",
        "    x=keras.layers.add([x,b])\n",
        "    x=Activation('relu')(x)\n",
        "\n",
        "    a=resnet_block(x,256,[3,3],1)\n",
        "    b=resnet_block(a,256,[3,3],1,activation=None)\n",
        "    x=keras.layers.add([x,b])\n",
        "    x=Activation('relu')(x)\n",
        "\n",
        "    # conv5\n",
        "    a=resnet_block(x,512,[1,1],2)\n",
        "    b=resnet_block(a,512,[3,3],1,activation=None)\n",
        "    x=Conv2D(512,kernel_size=[1,1],strides=2,padding='same',kernel_initializer='he_normal',kernel_regularizer=l2(1e-3))(x)\n",
        "    x=keras.layers.add([x,b])\n",
        "    x=Activation('relu')(x)\n",
        "\n",
        "    a=resnet_block(x,512,[3,3],1)\n",
        "    b=resnet_block(a,512,[3,3],1,activation=None)\n",
        "    x=keras.layers.add([x,b])\n",
        "    x=Activation('relu')(x)\n",
        "\n",
        "    x=AveragePooling2D(pool_size=7,data_format=\"channels_last\")(x)\n",
        "    # out:1*1*512\n",
        "\n",
        "    y=Flatten()(x)\n",
        "    # out:512\n",
        "    y=Dense(1000,kernel_initializer='he_normal',kernel_regularizer=l2(1e-3))(y)\n",
        "    outputs=Dense(4,kernel_initializer='he_normal',kernel_regularizer=l2(1e-3))(y)\n",
        "    \n",
        "    model=Model(inputs=inputs,outputs=outputs)\n",
        "    return model"
      ],
      "execution_count": 0,
      "outputs": []
    },
    {
      "metadata": {
        "id": "ojPwniLcM7yn",
        "colab_type": "code",
        "outputId": "aff9a8d2-41c6-4be6-80f1-f283ed2216cc",
        "colab": {
          "base_uri": "https://localhost:8080/",
          "height": 2624
        }
      },
      "cell_type": "code",
      "source": [
        "model = resnet18()\n",
        "model.compile(loss=smooth_l1_loss,optimizer=Adam(),metrics=[my_metric])\n",
        "model.summary()"
      ],
      "execution_count": 0,
      "outputs": [
        {
          "output_type": "stream",
          "text": [
            "WARNING:tensorflow:From /usr/local/lib/python3.6/dist-packages/tensorflow/python/framework/op_def_library.py:263: colocate_with (from tensorflow.python.framework.ops) is deprecated and will be removed in a future version.\n",
            "Instructions for updating:\n",
            "Colocations handled automatically by placer.\n",
            "__________________________________________________________________________________________________\n",
            "Layer (type)                    Output Shape         Param #     Connected to                     \n",
            "==================================================================================================\n",
            "input_1 (InputLayer)            (None, 224, 224, 3)  0                                            \n",
            "__________________________________________________________________________________________________\n",
            "conv2d_1 (Conv2D)               (None, 112, 112, 64) 9472        input_1[0][0]                    \n",
            "__________________________________________________________________________________________________\n",
            "batch_normalization_1 (BatchNor (None, 112, 112, 64) 256         conv2d_1[0][0]                   \n",
            "__________________________________________________________________________________________________\n",
            "activation_1 (Activation)       (None, 112, 112, 64) 0           batch_normalization_1[0][0]      \n",
            "__________________________________________________________________________________________________\n",
            "max_pooling2d_1 (MaxPooling2D)  (None, 56, 56, 64)   0           activation_1[0][0]               \n",
            "__________________________________________________________________________________________________\n",
            "conv2d_2 (Conv2D)               (None, 56, 56, 64)   36928       max_pooling2d_1[0][0]            \n",
            "__________________________________________________________________________________________________\n",
            "batch_normalization_2 (BatchNor (None, 56, 56, 64)   256         conv2d_2[0][0]                   \n",
            "__________________________________________________________________________________________________\n",
            "activation_2 (Activation)       (None, 56, 56, 64)   0           batch_normalization_2[0][0]      \n",
            "__________________________________________________________________________________________________\n",
            "conv2d_3 (Conv2D)               (None, 56, 56, 64)   36928       activation_2[0][0]               \n",
            "__________________________________________________________________________________________________\n",
            "batch_normalization_3 (BatchNor (None, 56, 56, 64)   256         conv2d_3[0][0]                   \n",
            "__________________________________________________________________________________________________\n",
            "add_1 (Add)                     (None, 56, 56, 64)   0           max_pooling2d_1[0][0]            \n",
            "                                                                 batch_normalization_3[0][0]      \n",
            "__________________________________________________________________________________________________\n",
            "activation_3 (Activation)       (None, 56, 56, 64)   0           add_1[0][0]                      \n",
            "__________________________________________________________________________________________________\n",
            "conv2d_4 (Conv2D)               (None, 56, 56, 64)   36928       activation_3[0][0]               \n",
            "__________________________________________________________________________________________________\n",
            "batch_normalization_4 (BatchNor (None, 56, 56, 64)   256         conv2d_4[0][0]                   \n",
            "__________________________________________________________________________________________________\n",
            "activation_4 (Activation)       (None, 56, 56, 64)   0           batch_normalization_4[0][0]      \n",
            "__________________________________________________________________________________________________\n",
            "conv2d_5 (Conv2D)               (None, 56, 56, 64)   36928       activation_4[0][0]               \n",
            "__________________________________________________________________________________________________\n",
            "batch_normalization_5 (BatchNor (None, 56, 56, 64)   256         conv2d_5[0][0]                   \n",
            "__________________________________________________________________________________________________\n",
            "add_2 (Add)                     (None, 56, 56, 64)   0           activation_3[0][0]               \n",
            "                                                                 batch_normalization_5[0][0]      \n",
            "__________________________________________________________________________________________________\n",
            "activation_5 (Activation)       (None, 56, 56, 64)   0           add_2[0][0]                      \n",
            "__________________________________________________________________________________________________\n",
            "conv2d_6 (Conv2D)               (None, 28, 28, 128)  8320        activation_5[0][0]               \n",
            "__________________________________________________________________________________________________\n",
            "batch_normalization_6 (BatchNor (None, 28, 28, 128)  512         conv2d_6[0][0]                   \n",
            "__________________________________________________________________________________________________\n",
            "activation_6 (Activation)       (None, 28, 28, 128)  0           batch_normalization_6[0][0]      \n",
            "__________________________________________________________________________________________________\n",
            "conv2d_7 (Conv2D)               (None, 28, 28, 128)  147584      activation_6[0][0]               \n",
            "__________________________________________________________________________________________________\n",
            "conv2d_8 (Conv2D)               (None, 28, 28, 128)  8320        activation_5[0][0]               \n",
            "__________________________________________________________________________________________________\n",
            "batch_normalization_7 (BatchNor (None, 28, 28, 128)  512         conv2d_7[0][0]                   \n",
            "__________________________________________________________________________________________________\n",
            "add_3 (Add)                     (None, 28, 28, 128)  0           conv2d_8[0][0]                   \n",
            "                                                                 batch_normalization_7[0][0]      \n",
            "__________________________________________________________________________________________________\n",
            "activation_7 (Activation)       (None, 28, 28, 128)  0           add_3[0][0]                      \n",
            "__________________________________________________________________________________________________\n",
            "conv2d_9 (Conv2D)               (None, 28, 28, 128)  147584      activation_7[0][0]               \n",
            "__________________________________________________________________________________________________\n",
            "batch_normalization_8 (BatchNor (None, 28, 28, 128)  512         conv2d_9[0][0]                   \n",
            "__________________________________________________________________________________________________\n",
            "activation_8 (Activation)       (None, 28, 28, 128)  0           batch_normalization_8[0][0]      \n",
            "__________________________________________________________________________________________________\n",
            "conv2d_10 (Conv2D)              (None, 28, 28, 128)  147584      activation_8[0][0]               \n",
            "__________________________________________________________________________________________________\n",
            "batch_normalization_9 (BatchNor (None, 28, 28, 128)  512         conv2d_10[0][0]                  \n",
            "__________________________________________________________________________________________________\n",
            "add_4 (Add)                     (None, 28, 28, 128)  0           activation_7[0][0]               \n",
            "                                                                 batch_normalization_9[0][0]      \n",
            "__________________________________________________________________________________________________\n",
            "activation_9 (Activation)       (None, 28, 28, 128)  0           add_4[0][0]                      \n",
            "__________________________________________________________________________________________________\n",
            "conv2d_11 (Conv2D)              (None, 14, 14, 256)  33024       activation_9[0][0]               \n",
            "__________________________________________________________________________________________________\n",
            "batch_normalization_10 (BatchNo (None, 14, 14, 256)  1024        conv2d_11[0][0]                  \n",
            "__________________________________________________________________________________________________\n",
            "activation_10 (Activation)      (None, 14, 14, 256)  0           batch_normalization_10[0][0]     \n",
            "__________________________________________________________________________________________________\n",
            "conv2d_12 (Conv2D)              (None, 14, 14, 256)  590080      activation_10[0][0]              \n",
            "__________________________________________________________________________________________________\n",
            "conv2d_13 (Conv2D)              (None, 14, 14, 256)  33024       activation_9[0][0]               \n",
            "__________________________________________________________________________________________________\n",
            "batch_normalization_11 (BatchNo (None, 14, 14, 256)  1024        conv2d_12[0][0]                  \n",
            "__________________________________________________________________________________________________\n",
            "add_5 (Add)                     (None, 14, 14, 256)  0           conv2d_13[0][0]                  \n",
            "                                                                 batch_normalization_11[0][0]     \n",
            "__________________________________________________________________________________________________\n",
            "activation_11 (Activation)      (None, 14, 14, 256)  0           add_5[0][0]                      \n",
            "__________________________________________________________________________________________________\n",
            "conv2d_14 (Conv2D)              (None, 14, 14, 256)  590080      activation_11[0][0]              \n",
            "__________________________________________________________________________________________________\n",
            "batch_normalization_12 (BatchNo (None, 14, 14, 256)  1024        conv2d_14[0][0]                  \n",
            "__________________________________________________________________________________________________\n",
            "activation_12 (Activation)      (None, 14, 14, 256)  0           batch_normalization_12[0][0]     \n",
            "__________________________________________________________________________________________________\n",
            "conv2d_15 (Conv2D)              (None, 14, 14, 256)  590080      activation_12[0][0]              \n",
            "__________________________________________________________________________________________________\n",
            "batch_normalization_13 (BatchNo (None, 14, 14, 256)  1024        conv2d_15[0][0]                  \n",
            "__________________________________________________________________________________________________\n",
            "add_6 (Add)                     (None, 14, 14, 256)  0           activation_11[0][0]              \n",
            "                                                                 batch_normalization_13[0][0]     \n",
            "__________________________________________________________________________________________________\n",
            "activation_13 (Activation)      (None, 14, 14, 256)  0           add_6[0][0]                      \n",
            "__________________________________________________________________________________________________\n",
            "conv2d_16 (Conv2D)              (None, 7, 7, 512)    131584      activation_13[0][0]              \n",
            "__________________________________________________________________________________________________\n",
            "batch_normalization_14 (BatchNo (None, 7, 7, 512)    2048        conv2d_16[0][0]                  \n",
            "__________________________________________________________________________________________________\n",
            "activation_14 (Activation)      (None, 7, 7, 512)    0           batch_normalization_14[0][0]     \n",
            "__________________________________________________________________________________________________\n",
            "conv2d_17 (Conv2D)              (None, 7, 7, 512)    2359808     activation_14[0][0]              \n",
            "__________________________________________________________________________________________________\n",
            "conv2d_18 (Conv2D)              (None, 7, 7, 512)    131584      activation_13[0][0]              \n",
            "__________________________________________________________________________________________________\n",
            "batch_normalization_15 (BatchNo (None, 7, 7, 512)    2048        conv2d_17[0][0]                  \n",
            "__________________________________________________________________________________________________\n",
            "add_7 (Add)                     (None, 7, 7, 512)    0           conv2d_18[0][0]                  \n",
            "                                                                 batch_normalization_15[0][0]     \n",
            "__________________________________________________________________________________________________\n",
            "activation_15 (Activation)      (None, 7, 7, 512)    0           add_7[0][0]                      \n",
            "__________________________________________________________________________________________________\n",
            "conv2d_19 (Conv2D)              (None, 7, 7, 512)    2359808     activation_15[0][0]              \n",
            "__________________________________________________________________________________________________\n",
            "batch_normalization_16 (BatchNo (None, 7, 7, 512)    2048        conv2d_19[0][0]                  \n",
            "__________________________________________________________________________________________________\n",
            "activation_16 (Activation)      (None, 7, 7, 512)    0           batch_normalization_16[0][0]     \n",
            "__________________________________________________________________________________________________\n",
            "conv2d_20 (Conv2D)              (None, 7, 7, 512)    2359808     activation_16[0][0]              \n",
            "__________________________________________________________________________________________________\n",
            "batch_normalization_17 (BatchNo (None, 7, 7, 512)    2048        conv2d_20[0][0]                  \n",
            "__________________________________________________________________________________________________\n",
            "add_8 (Add)                     (None, 7, 7, 512)    0           activation_15[0][0]              \n",
            "                                                                 batch_normalization_17[0][0]     \n",
            "__________________________________________________________________________________________________\n",
            "activation_17 (Activation)      (None, 7, 7, 512)    0           add_8[0][0]                      \n",
            "__________________________________________________________________________________________________\n",
            "average_pooling2d_1 (AveragePoo (None, 1, 1, 512)    0           activation_17[0][0]              \n",
            "__________________________________________________________________________________________________\n",
            "flatten_1 (Flatten)             (None, 512)          0           average_pooling2d_1[0][0]        \n",
            "__________________________________________________________________________________________________\n",
            "dense_1 (Dense)                 (None, 1000)         513000      flatten_1[0][0]                  \n",
            "__________________________________________________________________________________________________\n",
            "dense_2 (Dense)                 (None, 4)            4004        dense_1[0][0]                    \n",
            "==================================================================================================\n",
            "Total params: 10,328,076\n",
            "Trainable params: 10,320,268\n",
            "Non-trainable params: 7,808\n",
            "__________________________________________________________________________________________________\n"
          ],
          "name": "stdout"
        }
      ]
    },
    {
      "metadata": {
        "id": "Q_VVpkrzNAmn",
        "colab_type": "code",
        "colab": {}
      },
      "cell_type": "code",
      "source": [
        "def lr_sch(epoch):\n",
        "    #200 total\n",
        "    if epoch <100:\n",
        "        return 1e-4\n",
        "    if epoch>=100:\n",
        "        return 1e-5"
      ],
      "execution_count": 0,
      "outputs": []
    },
    {
      "metadata": {
        "id": "quZ4gG6eNEzQ",
        "colab_type": "code",
        "colab": {}
      },
      "cell_type": "code",
      "source": [
        "lr_scheduler=LearningRateScheduler(lr_sch)\n",
        "lr_reducer=ReduceLROnPlateau(monitor='val_my_metric',factor=0.2,patience=5,mode='max',min_lr=1e-3)"
      ],
      "execution_count": 0,
      "outputs": []
    },
    {
      "metadata": {
        "id": "VG6GAOBD3WdN",
        "colab_type": "code",
        "colab": {}
      },
      "cell_type": "code",
      "source": [
        "model=keras.models.load_model(\"./model2.h5\", custom_objects={'smooth_l1_loss':smooth_l1_loss, 'my_metric':my_metric})"
      ],
      "execution_count": 0,
      "outputs": []
    },
    {
      "metadata": {
        "id": "lTKx1NoLNG3k",
        "colab_type": "code",
        "outputId": "04a3a023-5380-4aad-bf6c-d5e0a7489056",
        "colab": {
          "base_uri": "https://localhost:8080/",
          "height": 1240
        }
      },
      "cell_type": "code",
      "source": [
        "checkpoint=ModelCheckpoint('model.h5',monitor='val_loss',verbose=0,save_best_only=True,mode='auto')\n",
        "model_details=model.fit(data_train,box_train,batch_size=32,epochs=20,shuffle=True,validation_split=0.3,callbacks=[lr_scheduler,lr_reducer,checkpoint],verbose=1)\n",
        "model.save('model2.h5')"
      ],
      "execution_count": 0,
      "outputs": [
        {
          "output_type": "stream",
          "text": [
            "Train on 2449 samples, validate on 1050 samples\n",
            "Epoch 1/20\n",
            "2449/2449 [==============================] - 31s 13ms/step - loss: 32.5413 - my_metric: 0.8987 - val_loss: 31.5849 - val_my_metric: 0.9000\n",
            "Epoch 2/20\n",
            "2449/2449 [==============================] - 24s 10ms/step - loss: 29.4787 - my_metric: 0.9151 - val_loss: 31.3078 - val_my_metric: 0.8971\n"
          ],
          "name": "stdout"
        },
        {
          "output_type": "error",
          "ename": "KeyboardInterrupt",
          "evalue": "ignored",
          "traceback": [
            "\u001b[0;31m---------------------------------------------------------------------------\u001b[0m",
            "\u001b[0;31mKeyboardInterrupt\u001b[0m                         Traceback (most recent call last)",
            "\u001b[0;32m<ipython-input-26-71c513ac8634>\u001b[0m in \u001b[0;36m<module>\u001b[0;34m()\u001b[0m\n\u001b[1;32m      1\u001b[0m \u001b[0mcheckpoint\u001b[0m\u001b[0;34m=\u001b[0m\u001b[0mModelCheckpoint\u001b[0m\u001b[0;34m(\u001b[0m\u001b[0;34m'model.h5'\u001b[0m\u001b[0;34m,\u001b[0m\u001b[0mmonitor\u001b[0m\u001b[0;34m=\u001b[0m\u001b[0;34m'val_loss'\u001b[0m\u001b[0;34m,\u001b[0m\u001b[0mverbose\u001b[0m\u001b[0;34m=\u001b[0m\u001b[0;36m0\u001b[0m\u001b[0;34m,\u001b[0m\u001b[0msave_best_only\u001b[0m\u001b[0;34m=\u001b[0m\u001b[0;32mTrue\u001b[0m\u001b[0;34m,\u001b[0m\u001b[0mmode\u001b[0m\u001b[0;34m=\u001b[0m\u001b[0;34m'auto'\u001b[0m\u001b[0;34m)\u001b[0m\u001b[0;34m\u001b[0m\u001b[0;34m\u001b[0m\u001b[0m\n\u001b[0;32m----> 2\u001b[0;31m \u001b[0mmodel_details\u001b[0m\u001b[0;34m=\u001b[0m\u001b[0mmodel\u001b[0m\u001b[0;34m.\u001b[0m\u001b[0mfit\u001b[0m\u001b[0;34m(\u001b[0m\u001b[0mdata_train\u001b[0m\u001b[0;34m,\u001b[0m\u001b[0mbox_train\u001b[0m\u001b[0;34m,\u001b[0m\u001b[0mbatch_size\u001b[0m\u001b[0;34m=\u001b[0m\u001b[0;36m32\u001b[0m\u001b[0;34m,\u001b[0m\u001b[0mepochs\u001b[0m\u001b[0;34m=\u001b[0m\u001b[0;36m20\u001b[0m\u001b[0;34m,\u001b[0m\u001b[0mshuffle\u001b[0m\u001b[0;34m=\u001b[0m\u001b[0;32mTrue\u001b[0m\u001b[0;34m,\u001b[0m\u001b[0mvalidation_split\u001b[0m\u001b[0;34m=\u001b[0m\u001b[0;36m0.3\u001b[0m\u001b[0;34m,\u001b[0m\u001b[0mcallbacks\u001b[0m\u001b[0;34m=\u001b[0m\u001b[0;34m[\u001b[0m\u001b[0mlr_scheduler\u001b[0m\u001b[0;34m,\u001b[0m\u001b[0mlr_reducer\u001b[0m\u001b[0;34m,\u001b[0m\u001b[0mcheckpoint\u001b[0m\u001b[0;34m]\u001b[0m\u001b[0;34m,\u001b[0m\u001b[0mverbose\u001b[0m\u001b[0;34m=\u001b[0m\u001b[0;36m1\u001b[0m\u001b[0;34m)\u001b[0m\u001b[0;34m\u001b[0m\u001b[0;34m\u001b[0m\u001b[0m\n\u001b[0m\u001b[1;32m      3\u001b[0m \u001b[0mmodel\u001b[0m\u001b[0;34m.\u001b[0m\u001b[0msave\u001b[0m\u001b[0;34m(\u001b[0m\u001b[0;34m'model2.h5'\u001b[0m\u001b[0;34m)\u001b[0m\u001b[0;34m\u001b[0m\u001b[0;34m\u001b[0m\u001b[0m\n",
            "\u001b[0;32m/usr/local/lib/python3.6/dist-packages/keras/engine/training.py\u001b[0m in \u001b[0;36mfit\u001b[0;34m(self, x, y, batch_size, epochs, verbose, callbacks, validation_split, validation_data, shuffle, class_weight, sample_weight, initial_epoch, steps_per_epoch, validation_steps, **kwargs)\u001b[0m\n\u001b[1;32m   1037\u001b[0m                                         \u001b[0minitial_epoch\u001b[0m\u001b[0;34m=\u001b[0m\u001b[0minitial_epoch\u001b[0m\u001b[0;34m,\u001b[0m\u001b[0;34m\u001b[0m\u001b[0;34m\u001b[0m\u001b[0m\n\u001b[1;32m   1038\u001b[0m                                         \u001b[0msteps_per_epoch\u001b[0m\u001b[0;34m=\u001b[0m\u001b[0msteps_per_epoch\u001b[0m\u001b[0;34m,\u001b[0m\u001b[0;34m\u001b[0m\u001b[0;34m\u001b[0m\u001b[0m\n\u001b[0;32m-> 1039\u001b[0;31m                                         validation_steps=validation_steps)\n\u001b[0m\u001b[1;32m   1040\u001b[0m \u001b[0;34m\u001b[0m\u001b[0m\n\u001b[1;32m   1041\u001b[0m     def evaluate(self, x=None, y=None,\n",
            "\u001b[0;32m/usr/local/lib/python3.6/dist-packages/keras/engine/training_arrays.py\u001b[0m in \u001b[0;36mfit_loop\u001b[0;34m(model, f, ins, out_labels, batch_size, epochs, verbose, callbacks, val_f, val_ins, shuffle, callback_metrics, initial_epoch, steps_per_epoch, validation_steps)\u001b[0m\n\u001b[1;32m    215\u001b[0m                         \u001b[0;32mfor\u001b[0m \u001b[0ml\u001b[0m\u001b[0;34m,\u001b[0m \u001b[0mo\u001b[0m \u001b[0;32min\u001b[0m \u001b[0mzip\u001b[0m\u001b[0;34m(\u001b[0m\u001b[0mout_labels\u001b[0m\u001b[0;34m,\u001b[0m \u001b[0mval_outs\u001b[0m\u001b[0;34m)\u001b[0m\u001b[0;34m:\u001b[0m\u001b[0;34m\u001b[0m\u001b[0;34m\u001b[0m\u001b[0m\n\u001b[1;32m    216\u001b[0m                             \u001b[0mepoch_logs\u001b[0m\u001b[0;34m[\u001b[0m\u001b[0;34m'val_'\u001b[0m \u001b[0;34m+\u001b[0m \u001b[0ml\u001b[0m\u001b[0;34m]\u001b[0m \u001b[0;34m=\u001b[0m \u001b[0mo\u001b[0m\u001b[0;34m\u001b[0m\u001b[0;34m\u001b[0m\u001b[0m\n\u001b[0;32m--> 217\u001b[0;31m         \u001b[0mcallbacks\u001b[0m\u001b[0;34m.\u001b[0m\u001b[0mon_epoch_end\u001b[0m\u001b[0;34m(\u001b[0m\u001b[0mepoch\u001b[0m\u001b[0;34m,\u001b[0m \u001b[0mepoch_logs\u001b[0m\u001b[0;34m)\u001b[0m\u001b[0;34m\u001b[0m\u001b[0;34m\u001b[0m\u001b[0m\n\u001b[0m\u001b[1;32m    218\u001b[0m         \u001b[0;32mif\u001b[0m \u001b[0mcallback_model\u001b[0m\u001b[0;34m.\u001b[0m\u001b[0mstop_training\u001b[0m\u001b[0;34m:\u001b[0m\u001b[0;34m\u001b[0m\u001b[0;34m\u001b[0m\u001b[0m\n\u001b[1;32m    219\u001b[0m             \u001b[0;32mbreak\u001b[0m\u001b[0;34m\u001b[0m\u001b[0;34m\u001b[0m\u001b[0m\n",
            "\u001b[0;32m/usr/local/lib/python3.6/dist-packages/keras/callbacks.py\u001b[0m in \u001b[0;36mon_epoch_end\u001b[0;34m(self, epoch, logs)\u001b[0m\n\u001b[1;32m     77\u001b[0m         \u001b[0mlogs\u001b[0m \u001b[0;34m=\u001b[0m \u001b[0mlogs\u001b[0m \u001b[0;32mor\u001b[0m \u001b[0;34m{\u001b[0m\u001b[0;34m}\u001b[0m\u001b[0;34m\u001b[0m\u001b[0;34m\u001b[0m\u001b[0m\n\u001b[1;32m     78\u001b[0m         \u001b[0;32mfor\u001b[0m \u001b[0mcallback\u001b[0m \u001b[0;32min\u001b[0m \u001b[0mself\u001b[0m\u001b[0;34m.\u001b[0m\u001b[0mcallbacks\u001b[0m\u001b[0;34m:\u001b[0m\u001b[0;34m\u001b[0m\u001b[0;34m\u001b[0m\u001b[0m\n\u001b[0;32m---> 79\u001b[0;31m             \u001b[0mcallback\u001b[0m\u001b[0;34m.\u001b[0m\u001b[0mon_epoch_end\u001b[0m\u001b[0;34m(\u001b[0m\u001b[0mepoch\u001b[0m\u001b[0;34m,\u001b[0m \u001b[0mlogs\u001b[0m\u001b[0;34m)\u001b[0m\u001b[0;34m\u001b[0m\u001b[0;34m\u001b[0m\u001b[0m\n\u001b[0m\u001b[1;32m     80\u001b[0m \u001b[0;34m\u001b[0m\u001b[0m\n\u001b[1;32m     81\u001b[0m     \u001b[0;32mdef\u001b[0m \u001b[0mon_batch_begin\u001b[0m\u001b[0;34m(\u001b[0m\u001b[0mself\u001b[0m\u001b[0;34m,\u001b[0m \u001b[0mbatch\u001b[0m\u001b[0;34m,\u001b[0m \u001b[0mlogs\u001b[0m\u001b[0;34m=\u001b[0m\u001b[0;32mNone\u001b[0m\u001b[0;34m)\u001b[0m\u001b[0;34m:\u001b[0m\u001b[0;34m\u001b[0m\u001b[0;34m\u001b[0m\u001b[0m\n",
            "\u001b[0;32m/usr/local/lib/python3.6/dist-packages/keras/callbacks.py\u001b[0m in \u001b[0;36mon_epoch_end\u001b[0;34m(self, epoch, logs)\u001b[0m\n\u001b[1;32m    444\u001b[0m                             \u001b[0mself\u001b[0m\u001b[0;34m.\u001b[0m\u001b[0mmodel\u001b[0m\u001b[0;34m.\u001b[0m\u001b[0msave_weights\u001b[0m\u001b[0;34m(\u001b[0m\u001b[0mfilepath\u001b[0m\u001b[0;34m,\u001b[0m \u001b[0moverwrite\u001b[0m\u001b[0;34m=\u001b[0m\u001b[0;32mTrue\u001b[0m\u001b[0;34m)\u001b[0m\u001b[0;34m\u001b[0m\u001b[0;34m\u001b[0m\u001b[0m\n\u001b[1;32m    445\u001b[0m                         \u001b[0;32melse\u001b[0m\u001b[0;34m:\u001b[0m\u001b[0;34m\u001b[0m\u001b[0;34m\u001b[0m\u001b[0m\n\u001b[0;32m--> 446\u001b[0;31m                             \u001b[0mself\u001b[0m\u001b[0;34m.\u001b[0m\u001b[0mmodel\u001b[0m\u001b[0;34m.\u001b[0m\u001b[0msave\u001b[0m\u001b[0;34m(\u001b[0m\u001b[0mfilepath\u001b[0m\u001b[0;34m,\u001b[0m \u001b[0moverwrite\u001b[0m\u001b[0;34m=\u001b[0m\u001b[0;32mTrue\u001b[0m\u001b[0;34m)\u001b[0m\u001b[0;34m\u001b[0m\u001b[0;34m\u001b[0m\u001b[0m\n\u001b[0m\u001b[1;32m    447\u001b[0m                     \u001b[0;32melse\u001b[0m\u001b[0;34m:\u001b[0m\u001b[0;34m\u001b[0m\u001b[0;34m\u001b[0m\u001b[0m\n\u001b[1;32m    448\u001b[0m                         \u001b[0;32mif\u001b[0m \u001b[0mself\u001b[0m\u001b[0;34m.\u001b[0m\u001b[0mverbose\u001b[0m \u001b[0;34m>\u001b[0m \u001b[0;36m0\u001b[0m\u001b[0;34m:\u001b[0m\u001b[0;34m\u001b[0m\u001b[0;34m\u001b[0m\u001b[0m\n",
            "\u001b[0;32m/usr/local/lib/python3.6/dist-packages/keras/engine/network.py\u001b[0m in \u001b[0;36msave\u001b[0;34m(self, filepath, overwrite, include_optimizer)\u001b[0m\n\u001b[1;32m   1088\u001b[0m             \u001b[0;32mraise\u001b[0m \u001b[0mNotImplementedError\u001b[0m\u001b[0;34m\u001b[0m\u001b[0;34m\u001b[0m\u001b[0m\n\u001b[1;32m   1089\u001b[0m         \u001b[0;32mfrom\u001b[0m \u001b[0;34m.\u001b[0m\u001b[0;34m.\u001b[0m\u001b[0mmodels\u001b[0m \u001b[0;32mimport\u001b[0m \u001b[0msave_model\u001b[0m\u001b[0;34m\u001b[0m\u001b[0;34m\u001b[0m\u001b[0m\n\u001b[0;32m-> 1090\u001b[0;31m         \u001b[0msave_model\u001b[0m\u001b[0;34m(\u001b[0m\u001b[0mself\u001b[0m\u001b[0;34m,\u001b[0m \u001b[0mfilepath\u001b[0m\u001b[0;34m,\u001b[0m \u001b[0moverwrite\u001b[0m\u001b[0;34m,\u001b[0m \u001b[0minclude_optimizer\u001b[0m\u001b[0;34m)\u001b[0m\u001b[0;34m\u001b[0m\u001b[0;34m\u001b[0m\u001b[0m\n\u001b[0m\u001b[1;32m   1091\u001b[0m \u001b[0;34m\u001b[0m\u001b[0m\n\u001b[1;32m   1092\u001b[0m     \u001b[0;32mdef\u001b[0m \u001b[0msave_weights\u001b[0m\u001b[0;34m(\u001b[0m\u001b[0mself\u001b[0m\u001b[0;34m,\u001b[0m \u001b[0mfilepath\u001b[0m\u001b[0;34m,\u001b[0m \u001b[0moverwrite\u001b[0m\u001b[0;34m=\u001b[0m\u001b[0;32mTrue\u001b[0m\u001b[0;34m)\u001b[0m\u001b[0;34m:\u001b[0m\u001b[0;34m\u001b[0m\u001b[0;34m\u001b[0m\u001b[0m\n",
            "\u001b[0;32m/usr/local/lib/python3.6/dist-packages/keras/engine/saving.py\u001b[0m in \u001b[0;36msave_model\u001b[0;34m(model, filepath, overwrite, include_optimizer)\u001b[0m\n\u001b[1;32m    383\u001b[0m     \u001b[0;32mfinally\u001b[0m\u001b[0;34m:\u001b[0m\u001b[0;34m\u001b[0m\u001b[0;34m\u001b[0m\u001b[0m\n\u001b[1;32m    384\u001b[0m         \u001b[0;32mif\u001b[0m \u001b[0mopened_new_file\u001b[0m\u001b[0;34m:\u001b[0m\u001b[0;34m\u001b[0m\u001b[0;34m\u001b[0m\u001b[0m\n\u001b[0;32m--> 385\u001b[0;31m             \u001b[0mf\u001b[0m\u001b[0;34m.\u001b[0m\u001b[0mclose\u001b[0m\u001b[0;34m(\u001b[0m\u001b[0;34m)\u001b[0m\u001b[0;34m\u001b[0m\u001b[0;34m\u001b[0m\u001b[0m\n\u001b[0m\u001b[1;32m    386\u001b[0m \u001b[0;34m\u001b[0m\u001b[0m\n\u001b[1;32m    387\u001b[0m \u001b[0;34m\u001b[0m\u001b[0m\n",
            "\u001b[0;32m/usr/local/lib/python3.6/dist-packages/keras/utils/io_utils.py\u001b[0m in \u001b[0;36mclose\u001b[0;34m(self)\u001b[0m\n\u001b[1;32m    330\u001b[0m             \u001b[0mself\u001b[0m\u001b[0;34m.\u001b[0m\u001b[0mdata\u001b[0m\u001b[0;34m.\u001b[0m\u001b[0mfile\u001b[0m\u001b[0;34m.\u001b[0m\u001b[0mflush\u001b[0m\u001b[0;34m(\u001b[0m\u001b[0;34m)\u001b[0m\u001b[0;34m\u001b[0m\u001b[0;34m\u001b[0m\u001b[0m\n\u001b[1;32m    331\u001b[0m             \u001b[0;32mif\u001b[0m \u001b[0mself\u001b[0m\u001b[0;34m.\u001b[0m\u001b[0m_is_file\u001b[0m\u001b[0;34m:\u001b[0m\u001b[0;34m\u001b[0m\u001b[0;34m\u001b[0m\u001b[0m\n\u001b[0;32m--> 332\u001b[0;31m                 \u001b[0mself\u001b[0m\u001b[0;34m.\u001b[0m\u001b[0mdata\u001b[0m\u001b[0;34m.\u001b[0m\u001b[0mclose\u001b[0m\u001b[0;34m(\u001b[0m\u001b[0;34m)\u001b[0m\u001b[0;34m\u001b[0m\u001b[0;34m\u001b[0m\u001b[0m\n\u001b[0m\u001b[1;32m    333\u001b[0m \u001b[0;34m\u001b[0m\u001b[0m\n\u001b[1;32m    334\u001b[0m     \u001b[0;32mdef\u001b[0m \u001b[0mupdate\u001b[0m\u001b[0;34m(\u001b[0m\u001b[0mself\u001b[0m\u001b[0;34m,\u001b[0m \u001b[0;34m*\u001b[0m\u001b[0margs\u001b[0m\u001b[0;34m)\u001b[0m\u001b[0;34m:\u001b[0m\u001b[0;34m\u001b[0m\u001b[0;34m\u001b[0m\u001b[0m\n",
            "\u001b[0;32m/usr/local/lib/python3.6/dist-packages/h5py/_hl/files.py\u001b[0m in \u001b[0;36mclose\u001b[0;34m(self)\u001b[0m\n\u001b[1;32m    340\u001b[0m                 \u001b[0;32mfor\u001b[0m \u001b[0mid_\u001b[0m \u001b[0;32min\u001b[0m \u001b[0mfile_list\u001b[0m\u001b[0;34m:\u001b[0m\u001b[0;34m\u001b[0m\u001b[0;34m\u001b[0m\u001b[0m\n\u001b[1;32m    341\u001b[0m                     \u001b[0;32mwhile\u001b[0m \u001b[0mid_\u001b[0m\u001b[0;34m.\u001b[0m\u001b[0mvalid\u001b[0m\u001b[0;34m:\u001b[0m\u001b[0;34m\u001b[0m\u001b[0;34m\u001b[0m\u001b[0m\n\u001b[0;32m--> 342\u001b[0;31m                         \u001b[0mh5i\u001b[0m\u001b[0;34m.\u001b[0m\u001b[0mdec_ref\u001b[0m\u001b[0;34m(\u001b[0m\u001b[0mid_\u001b[0m\u001b[0;34m)\u001b[0m\u001b[0;34m\u001b[0m\u001b[0;34m\u001b[0m\u001b[0m\n\u001b[0m\u001b[1;32m    343\u001b[0m \u001b[0;34m\u001b[0m\u001b[0m\n\u001b[1;32m    344\u001b[0m                 \u001b[0mself\u001b[0m\u001b[0;34m.\u001b[0m\u001b[0mid\u001b[0m\u001b[0;34m.\u001b[0m\u001b[0mclose\u001b[0m\u001b[0;34m(\u001b[0m\u001b[0;34m)\u001b[0m\u001b[0;34m\u001b[0m\u001b[0;34m\u001b[0m\u001b[0m\n",
            "\u001b[0;31mKeyboardInterrupt\u001b[0m: "
          ]
        }
      ]
    },
    {
      "metadata": {
        "id": "KNHadQV0PlxU",
        "colab_type": "code",
        "colab": {}
      },
      "cell_type": "code",
      "source": [
        "model.save('model2.h5')"
      ],
      "execution_count": 0,
      "outputs": []
    },
    {
      "metadata": {
        "id": "3Wy-CUSmNJ3g",
        "colab_type": "code",
        "colab": {}
      },
      "cell_type": "code",
      "source": [
        "import matplotlib.pyplot as plt\n"
      ],
      "execution_count": 0,
      "outputs": []
    },
    {
      "metadata": {
        "id": "_xPmAXI8AR5S",
        "colab_type": "code",
        "colab": {}
      },
      "cell_type": "code",
      "source": [
        "plt.switch_backend('agg')"
      ],
      "execution_count": 0,
      "outputs": []
    },
    {
      "metadata": {
        "id": "6-N7WYbcAV0Q",
        "colab_type": "code",
        "colab": {}
      },
      "cell_type": "code",
      "source": [
        "index=[i for i in range(500)]\n",
        "index=random.sample(index,100)"
      ],
      "execution_count": 0,
      "outputs": []
    },
    {
      "metadata": {
        "id": "UoYsTkk2DQRn",
        "colab_type": "code",
        "colab": {}
      },
      "cell_type": "code",
      "source": [
        ""
      ],
      "execution_count": 0,
      "outputs": []
    },
    {
      "metadata": {
        "id": "DMgeXpGLAeEj",
        "colab_type": "code",
        "colab": {}
      },
      "cell_type": "code",
      "source": [
        "model=keras.models.load_model(\"./model2.h5\", custom_objects={'smooth_l1_loss':smooth_l1_loss, 'my_metric':my_metric})\n",
        "result=model.predict(data_train[0:1,:,:,:])\n",
        "\n",
        "mean=[0.485,0.456,0.406]\n",
        "std=[0.229,0.224,0.225]\n",
        "j=0"
      ],
      "execution_count": 0,
      "outputs": []
    },
    {
      "metadata": {
        "id": "OJGeSZpU6Pno",
        "colab_type": "code",
        "outputId": "dd7174cc-203d-4878-808d-effd1fec26a1",
        "colab": {
          "base_uri": "https://localhost:8080/",
          "height": 5174
        }
      },
      "cell_type": "code",
      "source": [
        "data_train"
      ],
      "execution_count": 0,
      "outputs": [
        {
          "output_type": "execute_result",
          "data": {
            "text/plain": [
              "array([[[[ 1.0330508 ,  0.3977592 , -0.09638336],\n",
              "         [ 0.9988013 ,  0.3802522 , -0.07895417],\n",
              "         [ 0.9816765 ,  0.3627452 , -0.06152498],\n",
              "         ...,\n",
              "         [ 0.96455175,  0.87044823,  0.8970808 ],\n",
              "         [ 0.9988013 ,  0.90546227,  0.9319392 ],\n",
              "         [ 1.0330508 ,  0.94047624,  0.9667976 ]],\n",
              "\n",
              "        [[ 0.9988013 ,  0.3977592 , -0.11381256],\n",
              "         [ 0.9988013 ,  0.3802522 , -0.07895417],\n",
              "         [ 0.96455175,  0.3802522 , -0.09638336],\n",
              "         ...,\n",
              "         [ 0.9988013 ,  0.90546227,  0.8970808 ],\n",
              "         [ 1.015926  ,  0.9229692 ,  0.91451   ],\n",
              "         [ 1.0330508 ,  0.94047624,  0.9319392 ]],\n",
              "\n",
              "        [[ 0.96455175,  0.3802522 , -0.13124175],\n",
              "         [ 0.9988013 ,  0.41526622, -0.06152498],\n",
              "         [ 0.96455175,  0.3802522 , -0.06152498],\n",
              "         ...,\n",
              "         [ 1.015926  ,  0.9229692 ,  0.91451   ],\n",
              "         [ 1.015926  ,  0.9229692 ,  0.91451   ],\n",
              "         [ 1.0501755 ,  0.95798326,  0.94936836]],\n",
              "\n",
              "        ...,\n",
              "\n",
              "        [[ 1.6666666 ,  1.6232493 ,  1.6291069 ],\n",
              "         [ 1.6666666 ,  1.6232493 ,  1.6291069 ],\n",
              "         [ 1.6495419 ,  1.5882353 ,  1.6465361 ],\n",
              "         ...,\n",
              "         [ 1.5639181 ,  1.9033613 ,  2.1345534 ],\n",
              "         [ 1.5639181 ,  1.9033613 ,  2.1345534 ],\n",
              "         [ 1.5467933 ,  1.8858544 ,  2.1171243 ]],\n",
              "\n",
              "        [[ 1.6837914 ,  1.6407562 ,  1.6465361 ],\n",
              "         [ 1.6666666 ,  1.6232493 ,  1.6291069 ],\n",
              "         [ 1.6324171 ,  1.5882353 ,  1.5942485 ],\n",
              "         ...,\n",
              "         [ 1.5639181 ,  1.9033613 ,  2.1345534 ],\n",
              "         [ 1.5467933 ,  1.8858544 ,  2.1171243 ],\n",
              "         [ 1.5639181 ,  1.9033613 ,  2.1345534 ]],\n",
              "\n",
              "        [[ 1.6666666 ,  1.6232493 ,  1.6291069 ],\n",
              "         [ 1.6495419 ,  1.6057423 ,  1.6116778 ],\n",
              "         [ 1.6324171 ,  1.5882353 ,  1.5942485 ],\n",
              "         ...,\n",
              "         [ 1.5810429 ,  1.9208683 ,  2.1519828 ],\n",
              "         [ 1.5639181 ,  1.9033613 ,  2.1345534 ],\n",
              "         [ 1.5639181 ,  1.9033613 ,  2.1345534 ]]],\n",
              "\n",
              "\n",
              "       [[[ 0.60493195,  0.69537824,  0.827364  ],\n",
              "         [ 0.60493195,  0.69537824,  0.827364  ],\n",
              "         [ 0.60493195,  0.69537824,  0.827364  ],\n",
              "         ...,\n",
              "         [ 0.7761795 ,  0.95798326,  1.1236603 ],\n",
              "         [ 0.86180323,  1.0455183 ,  1.2456646 ],\n",
              "         [ 0.9816765 ,  1.1330533 ,  1.3502399 ]],\n",
              "\n",
              "        [[ 0.5878072 ,  0.6778712 ,  0.8099348 ],\n",
              "         [ 0.5878072 ,  0.6778712 ,  0.8099348 ],\n",
              "         [ 0.5878072 ,  0.6778712 ,  0.8099348 ],\n",
              "         ...,\n",
              "         [ 0.8960528 ,  1.0805323 ,  1.2456646 ],\n",
              "         [ 0.9131775 ,  1.0980393 ,  1.2979523 ],\n",
              "         [ 1.0501755 ,  1.2380953 ,  1.4373858 ]],\n",
              "\n",
              "        [[ 0.57068247,  0.6603642 ,  0.7925056 ],\n",
              "         [ 0.57068247,  0.6603642 ,  0.7925056 ],\n",
              "         [ 0.57068247,  0.6603642 ,  0.7576472 ],\n",
              "         ...,\n",
              "         [ 0.93030226,  1.1155462 ,  1.2805231 ],\n",
              "         [ 1.0330508 ,  1.2205883 ,  1.4199566 ],\n",
              "         [ 1.2385478 ,  1.4306723 ,  1.6291069 ]],\n",
              "\n",
              "        ...,\n",
              "\n",
              "        [[ 0.63918144,  0.78291327,  1.0016559 ],\n",
              "         [ 0.70768046,  0.8529412 ,  1.0713727 ],\n",
              "         [ 0.74193   ,  0.88795525,  1.0713727 ],\n",
              "         ...,\n",
              "         [ 1.4097953 ,  1.6057423 ,  1.8033988 ],\n",
              "         [ 1.4097953 ,  1.6057423 ,  1.8033988 ],\n",
              "         [ 1.3926706 ,  1.5882353 ,  1.7859696 ]],\n",
              "\n",
              "        [[ 0.63918144,  0.78291327,  1.0016559 ],\n",
              "         [ 0.70768046,  0.8529412 ,  1.0713727 ],\n",
              "         [ 0.74193   ,  0.88795525,  1.0713727 ],\n",
              "         ...,\n",
              "         [ 1.3926706 ,  1.5532213 ,  1.733682  ],\n",
              "         [ 1.4097953 ,  1.5707283 ,  1.7511113 ],\n",
              "         [ 1.3926706 ,  1.5532213 ,  1.733682  ]],\n",
              "\n",
              "        [[ 0.6563062 ,  0.8004202 ,  1.0190852 ],\n",
              "         [ 0.70768046,  0.8529412 ,  1.0713727 ],\n",
              "         [ 0.7590547 ,  0.94047624,  1.1062311 ],\n",
              "         ...,\n",
              "         [ 1.3926706 ,  1.5532213 ,  1.733682  ],\n",
              "         [ 1.4097953 ,  1.5707283 ,  1.7511113 ],\n",
              "         [ 1.3926706 ,  1.5532213 ,  1.733682  ]]],\n",
              "\n",
              "\n",
              "       [[[ 0.80784315,  0.83137256,  0.83137256],\n",
              "         [ 0.827451  ,  0.8509804 ,  0.8509804 ],\n",
              "         [ 0.8156863 ,  0.8392157 ,  0.8392157 ],\n",
              "         ...,\n",
              "         [ 0.78431374,  0.8       ,  0.8039216 ],\n",
              "         [ 0.79607844,  0.8117647 ,  0.8156863 ],\n",
              "         [ 0.7921569 ,  0.80784315,  0.8117647 ]],\n",
              "\n",
              "        [[ 0.8156863 ,  0.8392157 ,  0.8392157 ],\n",
              "         [ 0.8392157 ,  0.8627451 ,  0.86274505],\n",
              "         [ 0.8352941 ,  0.85882354,  0.85882354],\n",
              "         ...,\n",
              "         [ 0.7882353 ,  0.8039216 ,  0.80784315],\n",
              "         [ 0.78431374,  0.8       ,  0.8039216 ],\n",
              "         [ 0.78431374,  0.8       ,  0.8039216 ]],\n",
              "\n",
              "        [[ 0.80784315,  0.83137256,  0.83137256],\n",
              "         [ 0.83137256,  0.85490197,  0.85490197],\n",
              "         [ 0.8235294 ,  0.84705883,  0.84705883],\n",
              "         ...,\n",
              "         [ 0.7882353 ,  0.8039216 ,  0.80784315],\n",
              "         [ 0.78039217,  0.79607844,  0.8       ],\n",
              "         [ 0.8       ,  0.8156863 ,  0.81960785]],\n",
              "\n",
              "        ...,\n",
              "\n",
              "        [[ 0.29411766,  0.18039218,  0.06274509],\n",
              "         [ 0.30588236,  0.18431374,  0.07058823],\n",
              "         [ 0.32156864,  0.19215688,  0.06274509],\n",
              "         ...,\n",
              "         [ 0.43137255,  0.28627452,  0.12156862],\n",
              "         [ 0.42745098,  0.2784314 ,  0.12549022],\n",
              "         [ 0.41960785,  0.27058825,  0.11764705]],\n",
              "\n",
              "        [[ 0.3137255 ,  0.21568626,  0.09411764],\n",
              "         [ 0.29803923,  0.20392159,  0.07058823],\n",
              "         [ 0.32941177,  0.21568626,  0.08235294],\n",
              "         ...,\n",
              "         [ 0.41568628,  0.24313726,  0.05882353],\n",
              "         [ 0.4117647 ,  0.24313726,  0.06666666],\n",
              "         [ 0.41960785,  0.24705882,  0.07058823]],\n",
              "\n",
              "        [[ 0.32941177,  0.20784315,  0.0862745 ],\n",
              "         [ 0.32941177,  0.21176471,  0.07843137],\n",
              "         [ 0.35686275,  0.23137255,  0.08235294],\n",
              "         ...,\n",
              "         [ 0.42745098,  0.25882354,  0.04313725],\n",
              "         [ 0.43529412,  0.26666668,  0.05098039],\n",
              "         [ 0.44705883,  0.27058825,  0.05490196]]],\n",
              "\n",
              "\n",
              "       ...,\n",
              "\n",
              "\n",
              "       [[[ 0.63918144,  0.81792724,  0.98422676],\n",
              "         [ 0.673431  ,  0.81792724,  1.0365143 ],\n",
              "         [ 0.69055575,  0.8004202 ,  1.0365143 ],\n",
              "         ...,\n",
              "         [ 0.70768046,  0.76540625,  0.9319392 ],\n",
              "         [ 0.69055575,  0.74789923,  0.91451   ],\n",
              "         [ 0.63918144,  0.69537824,  0.8622224 ]],\n",
              "\n",
              "        [[ 0.63918144,  0.81792724,  0.98422676],\n",
              "         [ 0.6563062 ,  0.8004202 ,  1.0190852 ],\n",
              "         [ 0.69055575,  0.8004202 ,  1.0365143 ],\n",
              "         ...,\n",
              "         [ 0.70768046,  0.76540625,  0.9319392 ],\n",
              "         [ 0.70768046,  0.76540625,  0.9319392 ],\n",
              "         [ 0.74193   ,  0.8004202 ,  0.9667976 ]],\n",
              "\n",
              "        [[ 0.673431  ,  0.81792724,  1.0016559 ],\n",
              "         [ 0.673431  ,  0.81792724,  1.0365143 ],\n",
              "         [ 0.69055575,  0.8004202 ,  1.0365143 ],\n",
              "         ...,\n",
              "         [ 0.72480524,  0.78291327,  0.94936836],\n",
              "         [ 0.69055575,  0.74789923,  0.91451   ],\n",
              "         [ 0.69055575,  0.74789923,  0.91451   ]],\n",
              "\n",
              "        ...,\n",
              "\n",
              "        [[ 0.74193   ,  0.88795525,  1.1410894 ],\n",
              "         [ 0.74193   ,  0.88795525,  1.1410894 ],\n",
              "         [ 0.7590547 ,  0.90546227,  1.1585187 ],\n",
              "         ...,\n",
              "         [ 0.74193   ,  0.81792724,  1.0190852 ],\n",
              "         [ 0.72480524,  0.8004202 ,  1.0365143 ],\n",
              "         [ 0.72480524,  0.8004202 ,  1.0365143 ]],\n",
              "\n",
              "        [[ 0.7590547 ,  0.90546227,  1.1585187 ],\n",
              "         [ 0.7590547 ,  0.90546227,  1.1585187 ],\n",
              "         [ 0.7761795 ,  0.9229692 ,  1.1759479 ],\n",
              "         ...,\n",
              "         [ 0.72480524,  0.8004202 ,  1.0016559 ],\n",
              "         [ 0.74193   ,  0.81792724,  1.0190852 ],\n",
              "         [ 0.74193   ,  0.81792724,  1.0539435 ]],\n",
              "\n",
              "        [[ 0.7590547 ,  0.90546227,  1.1585187 ],\n",
              "         [ 0.7761795 ,  0.9229692 ,  1.1759479 ],\n",
              "         [ 0.7761795 ,  0.9229692 ,  1.1759479 ],\n",
              "         ...,\n",
              "         [ 0.74193   ,  0.81792724,  1.0190852 ],\n",
              "         [ 0.74193   ,  0.81792724,  1.0190852 ],\n",
              "         [ 0.74193   ,  0.81792724,  1.0190852 ]]],\n",
              "\n",
              "\n",
              "       [[[ 0.878928  ,  1.0630252 ,  1.193377  ],\n",
              "         [ 0.86180323,  1.0455183 ,  1.1759479 ],\n",
              "         [ 0.86180323,  1.0280112 ,  1.1585187 ],\n",
              "         ...,\n",
              "         [ 0.57068247,  0.71288526,  0.8970808 ],\n",
              "         [ 0.5878072 ,  0.7303922 ,  0.91451   ],\n",
              "         [ 0.5878072 ,  0.7303922 ,  0.91451   ]],\n",
              "\n",
              "        [[ 0.86180323,  1.0455183 ,  1.1759479 ],\n",
              "         [ 0.86180323,  1.0280112 ,  1.1585187 ],\n",
              "         [ 0.86180323,  1.0280112 ,  1.1585187 ],\n",
              "         ...,\n",
              "         [ 0.6563062 ,  0.8004202 ,  0.98422676],\n",
              "         [ 0.63918144,  0.78291327,  0.9667976 ],\n",
              "         [ 0.60493195,  0.74789923,  0.9319392 ]],\n",
              "\n",
              "        [[ 0.8446785 ,  1.0105042 ,  1.1410894 ],\n",
              "         [ 0.8446785 ,  1.0105042 ,  1.1410894 ],\n",
              "         [ 0.8446785 ,  0.9754903 ,  1.1236603 ],\n",
              "         ...,\n",
              "         [ 0.673431  ,  0.81792724,  1.0016559 ],\n",
              "         [ 0.69055575,  0.83543426,  1.0190852 ],\n",
              "         [ 0.70768046,  0.8529412 ,  1.0365143 ]],\n",
              "\n",
              "        ...,\n",
              "\n",
              "        [[ 1.4954191 ,  1.6932774 ,  1.8556864 ],\n",
              "         [ 1.4782944 ,  1.6757703 ,  1.8382572 ],\n",
              "         [ 1.4954191 ,  1.6932774 ,  1.8208281 ],\n",
              "         ...,\n",
              "         [ 1.2042983 ,  1.3431373 ,  1.4896734 ],\n",
              "         [ 1.221423  ,  1.3606442 ,  1.5071026 ],\n",
              "         [ 1.221423  ,  1.3606442 ,  1.5071026 ]],\n",
              "\n",
              "        [[ 1.4954191 ,  1.6932774 ,  1.8556864 ],\n",
              "         [ 1.4954191 ,  1.6932774 ,  1.8556864 ],\n",
              "         [ 1.4954191 ,  1.6932774 ,  1.8208281 ],\n",
              "         ...,\n",
              "         [ 1.221423  ,  1.3606442 ,  1.5071026 ],\n",
              "         [ 1.221423  ,  1.3606442 ,  1.5071026 ],\n",
              "         [ 1.2042983 ,  1.3431373 ,  1.4896734 ]],\n",
              "\n",
              "        [[ 1.5125438 ,  1.7107843 ,  1.8731157 ],\n",
              "         [ 1.5125438 ,  1.7107843 ,  1.8731157 ],\n",
              "         [ 1.4954191 ,  1.6932774 ,  1.8208281 ],\n",
              "         ...,\n",
              "         [ 1.221423  ,  1.3606442 ,  1.5071026 ],\n",
              "         [ 1.221423  ,  1.3606442 ,  1.5071026 ],\n",
              "         [ 1.1871736 ,  1.3256303 ,  1.4722441 ]]],\n",
              "\n",
              "\n",
              "       [[[ 1.8721637 ,  2.0609243 ,  2.3088455 ],\n",
              "         [ 1.8721637 ,  2.0609243 ,  2.3088455 ],\n",
              "         [ 1.8721637 ,  2.0609243 ,  2.3088455 ],\n",
              "         ...,\n",
              "         [-1.1589178 , -1.0028011 , -0.68897593],\n",
              "         [-1.2787911 , -1.160364  , -0.86326796],\n",
              "         [-1.3301654 , -1.2829131 , -0.9329847 ]],\n",
              "\n",
              "        [[ 1.8892884 ,  2.0784314 ,  2.3262744 ],\n",
              "         [ 1.8721637 ,  2.0609243 ,  2.3088455 ],\n",
              "         [ 1.8721637 ,  2.0609243 ,  2.3088455 ],\n",
              "         ...,\n",
              "         [-1.2274169 , -1.107843  , -0.8109804 ],\n",
              "         [-1.3986644 , -1.2829131 , -0.9852723 ],\n",
              "         [-1.3644148 , -1.2829131 , -0.9504139 ]],\n",
              "\n",
              "        [[ 1.8892884 ,  2.0784314 ,  2.3262744 ],\n",
              "         [ 1.8721637 ,  2.0609243 ,  2.3088455 ],\n",
              "         [ 1.8721637 ,  2.0609243 ,  2.3088455 ],\n",
              "         ...,\n",
              "         [-1.3301654 , -1.212885  , -0.91555554],\n",
              "         [-1.3472902 , -1.265406  , -0.9504139 ],\n",
              "         [-1.3130406 , -1.230392  , -0.86326796]],\n",
              "\n",
              "        ...,\n",
              "\n",
              "        [[-0.13143253, -0.09243695,  0.06047938],\n",
              "         [-0.18280679, -0.19747896, -0.02666659],\n",
              "         [-0.31980482, -0.28501397, -0.16610013],\n",
              "         ...,\n",
              "         [ 0.00556549, -0.17997196, -0.13124175],\n",
              "         [ 0.2966864 ,  0.2226892 ,  0.02562099],\n",
              "         [ 0.1939379 ,  0.3452382 ,  0.47878015]],\n",
              "\n",
              "        [[-0.13143253, -0.12745096, -0.0092374 ],\n",
              "         [-0.13143253, -0.19747896, -0.07895417],\n",
              "         [-0.04580877, -0.07492995,  0.02562099],\n",
              "         ...,\n",
              "         [ 0.46793392,  0.4327732 ,  0.44392177],\n",
              "         [ 0.63918144,  0.4327732 ,  0.49620935],\n",
              "         [ 0.9131775 ,  0.74789923,  0.8970808 ]],\n",
              "\n",
              "        [[-0.4739276 , -0.512605  , -0.41010883],\n",
              "         [-0.31980482, -0.460084  , -0.32296288],\n",
              "         [-0.5253019 , -0.635154  , -0.54954237],\n",
              "         ...,\n",
              "         [ 2.0947855 ,  2.2184873 ,  2.343704  ],\n",
              "         [ 2.0434113 ,  2.2009804 ,  2.3785625 ],\n",
              "         [ 2.0262864 ,  2.235994  ,  2.3611329 ]]]], dtype=float32)"
            ]
          },
          "metadata": {
            "tags": []
          },
          "execution_count": 34
        }
      ]
    },
    {
      "metadata": {
        "id": "WE31IX6mAfBy",
        "colab_type": "code",
        "outputId": "a85a22bf-1d52-4883-92f4-a0d4c40e9887",
        "colab": {
          "base_uri": "https://localhost:8080/",
          "height": 50
        }
      },
      "cell_type": "code",
      "source": [
        "for i in range(1):\n",
        "    print(\"Predicting \"+str(i)+\"th image.\")\n",
        "    true_box=box_train[i]\n",
        "    image=data_train[i]\n",
        "    prediction=result[j]\n",
        "    j+=1\n",
        "    for channel in range(3):\n",
        "        image[:,:,channel]=image[:,:,channel]*std[channel]+mean[channel]\n",
        "\n",
        "    image=image*255\n",
        "    image=image.astype(np.uint8)\n",
        "    plt.imshow(image)\n",
        "\n",
        "\n",
        "    plt.gca().add_patch(plt.Rectangle((true_box[0],true_box[1]),true_box[2],true_box[3],fill=False,edgecolor='red',linewidth=2,alpha=0.5))\n",
        "    plt.gca().add_patch(plt.Rectangle((prediction[0]*224,prediction[1]*224),prediction[2]*224,prediction[3]*224,fill=False,edgecolor='green',linewidth=2,alpha=0.5))\n",
        "    \n",
        "    plt.show()\n",
        "    plt.savefig(\"./p1/\"+str(i)+\".png\")\n",
        "    print(str(prediction[0]*224)+' '+str(prediction[1]*224)+' '+str(prediction[2]*224)+' '+str(prediction[3]*224)+' ')\n",
        "    plt.cla()\n"
      ],
      "execution_count": 0,
      "outputs": [
        {
          "output_type": "stream",
          "text": [
            "Predicting 0th image.\n",
            "56.83512592315674 7.019866943359375 113.93784141540527 174.57539749145508 \n"
          ],
          "name": "stdout"
        }
      ]
    },
    {
      "metadata": {
        "id": "VIJZfVF1Gov-",
        "colab_type": "code",
        "colab": {}
      },
      "cell_type": "code",
      "source": [
        "\n"
      ],
      "execution_count": 0,
      "outputs": []
    },
    {
      "metadata": {
        "id": "ukByWTJFq5QO",
        "colab_type": "code",
        "colab": {}
      },
      "cell_type": "code",
      "source": [
        ""
      ],
      "execution_count": 0,
      "outputs": []
    }
  ]
}