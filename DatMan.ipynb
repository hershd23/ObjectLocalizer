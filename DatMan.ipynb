{
  "nbformat": 4,
  "nbformat_minor": 0,
  "metadata": {
    "colab": {
      "name": "DatMan.ipynb",
      "version": "0.3.2",
      "provenance": [],
      "collapsed_sections": []
    },
    "kernelspec": {
      "name": "python3",
      "display_name": "Python 3"
    }
  },
  "cells": [
    {
      "metadata": {
        "id": "XB7Bk-Sjdh_2",
        "colab_type": "code",
        "outputId": "e4087e85-9f45-4e7f-b322-092763283c5d",
        "colab": {
          "base_uri": "https://localhost:8080/",
          "height": 35
        }
      },
      "cell_type": "code",
      "source": [
        "from google.colab import drive\n",
        "drive.mount('/content/drive')"
      ],
      "execution_count": 0,
      "outputs": [
        {
          "output_type": "stream",
          "text": [
            "Drive already mounted at /content/drive; to attempt to forcibly remount, call drive.mount(\"/content/drive\", force_remount=True).\n"
          ],
          "name": "stdout"
        }
      ]
    },
    {
      "metadata": {
        "id": "TiWt2TmSdpJb",
        "colab_type": "code",
        "outputId": "e9af46ec-0c05-4d67-d916-1011643fb0b1",
        "colab": {
          "base_uri": "https://localhost:8080/",
          "height": 35
        }
      },
      "cell_type": "code",
      "source": [
        "cd /content/drive/My Drive/flipchal"
      ],
      "execution_count": 0,
      "outputs": [
        {
          "output_type": "stream",
          "text": [
            "/content/drive/My Drive/flipchal\n"
          ],
          "name": "stdout"
        }
      ]
    },
    {
      "metadata": {
        "id": "8y47eeVHenmA",
        "colab_type": "code",
        "colab": {}
      },
      "cell_type": "code",
      "source": [
        "from PIL import Image\n",
        "import numpy as np\n",
        "import pickle\n",
        "import random\n",
        "import pandas as pd"
      ],
      "execution_count": 0,
      "outputs": []
    },
    {
      "metadata": {
        "id": "zkBlhgTuertB",
        "colab_type": "code",
        "colab": {}
      },
      "cell_type": "code",
      "source": [
        "def Normalize(image,mean,std):\n",
        "    for channel in range(3):\n",
        "        image[:,:,channel]=(image[:,:,channel]-mean[channel])/std[channel]\n",
        "    return image"
      ],
      "execution_count": 0,
      "outputs": []
    },
    {
      "metadata": {
        "id": "H4YDFwoheupt",
        "colab_type": "code",
        "colab": {}
      },
      "cell_type": "code",
      "source": [
        "id_to_data={}\n",
        "id_to_size={}"
      ],
      "execution_count": 0,
      "outputs": []
    },
    {
      "metadata": {
        "id": "43SnIoekewXa",
        "colab_type": "code",
        "colab": {}
      },
      "cell_type": "code",
      "source": [
        "f = pd.read_csv('./training.csv')"
      ],
      "execution_count": 0,
      "outputs": []
    },
    {
      "metadata": {
        "id": "DhjapExiex6H",
        "colab_type": "code",
        "outputId": "4521f4b8-c6bd-4a3f-a1fd-882ace99b04d",
        "colab": {
          "base_uri": "https://localhost:8080/",
          "height": 206
        }
      },
      "cell_type": "code",
      "source": [
        "f.head()"
      ],
      "execution_count": 0,
      "outputs": [
        {
          "output_type": "execute_result",
          "data": {
            "text/html": [
              "<div>\n",
              "<style scoped>\n",
              "    .dataframe tbody tr th:only-of-type {\n",
              "        vertical-align: middle;\n",
              "    }\n",
              "\n",
              "    .dataframe tbody tr th {\n",
              "        vertical-align: top;\n",
              "    }\n",
              "\n",
              "    .dataframe thead th {\n",
              "        text-align: right;\n",
              "    }\n",
              "</style>\n",
              "<table border=\"1\" class=\"dataframe\">\n",
              "  <thead>\n",
              "    <tr style=\"text-align: right;\">\n",
              "      <th></th>\n",
              "      <th>image_name</th>\n",
              "      <th>x1</th>\n",
              "      <th>x2</th>\n",
              "      <th>y1</th>\n",
              "      <th>y2</th>\n",
              "    </tr>\n",
              "  </thead>\n",
              "  <tbody>\n",
              "    <tr>\n",
              "      <th>0</th>\n",
              "      <td>JPEG_20160706_121146_1000145715002.png</td>\n",
              "      <td>115</td>\n",
              "      <td>495</td>\n",
              "      <td>143</td>\n",
              "      <td>325</td>\n",
              "    </tr>\n",
              "    <tr>\n",
              "      <th>1</th>\n",
              "      <td>JPEG_20161119_174038_1000690577600.png</td>\n",
              "      <td>23</td>\n",
              "      <td>457</td>\n",
              "      <td>61</td>\n",
              "      <td>409</td>\n",
              "    </tr>\n",
              "    <tr>\n",
              "      <th>2</th>\n",
              "      <td>147444927651111470309333776-Roadster-Men-Casua...</td>\n",
              "      <td>37</td>\n",
              "      <td>601</td>\n",
              "      <td>13</td>\n",
              "      <td>470</td>\n",
              "    </tr>\n",
              "    <tr>\n",
              "      <th>3</th>\n",
              "      <td>147772332675720161028_161611.png</td>\n",
              "      <td>27</td>\n",
              "      <td>602</td>\n",
              "      <td>162</td>\n",
              "      <td>385</td>\n",
              "    </tr>\n",
              "    <tr>\n",
              "      <th>4</th>\n",
              "      <td>1473315333651DeeplearnS11638.png</td>\n",
              "      <td>60</td>\n",
              "      <td>586</td>\n",
              "      <td>174</td>\n",
              "      <td>325</td>\n",
              "    </tr>\n",
              "  </tbody>\n",
              "</table>\n",
              "</div>"
            ],
            "text/plain": [
              "                                          image_name   x1   x2   y1   y2\n",
              "0             JPEG_20160706_121146_1000145715002.png  115  495  143  325\n",
              "1             JPEG_20161119_174038_1000690577600.png   23  457   61  409\n",
              "2  147444927651111470309333776-Roadster-Men-Casua...   37  601   13  470\n",
              "3                   147772332675720161028_161611.png   27  602  162  385\n",
              "4                   1473315333651DeeplearnS11638.png   60  586  174  325"
            ]
          },
          "metadata": {
            "tags": []
          },
          "execution_count": 16
        }
      ]
    },
    {
      "metadata": {
        "id": "LJaIsdNoezks",
        "colab_type": "code",
        "colab": {}
      },
      "cell_type": "code",
      "source": [
        "len = 3500"
      ],
      "execution_count": 0,
      "outputs": []
    },
    {
      "metadata": {
        "id": "M1xE9bIZe3Eb",
        "colab_type": "code",
        "outputId": "11865dc2-6c76-4d7c-8dc0-5c87ab61a3ed",
        "colab": {
          "base_uri": "https://localhost:8080/",
          "height": 146
        }
      },
      "cell_type": "code",
      "source": [
        "for i in range(len):\n",
        "    id = i\n",
        "    path = f.iloc[10500+i]['image_name']\n",
        "    image=Image.open(\"./train_set/\"+path).convert('RGB')\n",
        "    id_to_size[int(id)]=np.array(image,dtype=np.float32).shape[0:2]\n",
        "    image=image.resize((224,224))\n",
        "    image=np.array(image,dtype=np.float32)\n",
        "    image=image/255\n",
        "    image=Normalize(image,[0.485,0.456,0.406],[0.229,0.224,0.225])\n",
        "    id_to_data[int(id)]=image\n",
        "    if (int(id)%500)==0:\n",
        "        print('Pic no '+ str(id)+' ')"
      ],
      "execution_count": 0,
      "outputs": [
        {
          "output_type": "stream",
          "text": [
            "Pic no 0 \n",
            "Pic no 500 \n",
            "Pic no 1000 \n",
            "Pic no 1500 \n",
            "Pic no 2000 \n",
            "Pic no 2500 \n",
            "Pic no 3000 \n"
          ],
          "name": "stdout"
        }
      ]
    },
    {
      "metadata": {
        "id": "VF_DC_WQe5Yz",
        "colab_type": "code",
        "colab": {}
      },
      "cell_type": "code",
      "source": [
        "\n",
        "id_to_data=np.array(list(id_to_data.values()))\n",
        "id_to_size=np.array(list(id_to_size.values()))"
      ],
      "execution_count": 0,
      "outputs": []
    },
    {
      "metadata": {
        "id": "BZv5TE76nlDw",
        "colab_type": "code",
        "outputId": "4abfe4c2-a1af-4709-dc70-c5e981693921",
        "colab": {
          "base_uri": "https://localhost:8080/",
          "height": 35
        }
      },
      "cell_type": "code",
      "source": [
        "f=open(\"./id_to_data4\",\"wb+\")\n",
        "pickle.dump(id_to_data,f,protocol=2)\n",
        "print('ID data file written')\n",
        "f=open(\"./id_to_size4\",\"wb+\")\n",
        "pickle.dump(id_to_size,f,protocol=2)"
      ],
      "execution_count": 0,
      "outputs": [
        {
          "output_type": "stream",
          "text": [
            "ID data file written\n"
          ],
          "name": "stdout"
        }
      ]
    },
    {
      "metadata": {
        "id": "hoKZrWjynsDL",
        "colab_type": "code",
        "colab": {}
      },
      "cell_type": "code",
      "source": [
        ""
      ],
      "execution_count": 0,
      "outputs": []
    }
  ]
}